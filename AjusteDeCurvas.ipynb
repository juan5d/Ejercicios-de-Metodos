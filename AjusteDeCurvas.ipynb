{
 "cells": [
  {
   "cell_type": "code",
   "execution_count": 7,
   "metadata": {
    "collapsed": false
   },
   "outputs": [
    {
     "name": "stdout",
     "output_type": "stream",
     "text": [
      "ingrese el tamaño de la muestra 4\n",
      "valor 1\n",
      "valor 2\n",
      "valor 5\n",
      "valor 3\n",
      "A[0]=1\n",
      "A[1]=2\n",
      "A[2]=5\n",
      "A[3]=3\n",
      "Media = 2.75\n",
      "Varianza = 8.75\n",
      "Desviacion = 2.95803989155\n",
      "Suma = 11\n"
     ]
    }
   ],
   "source": [
    "from math import *\n",
    "import random\n",
    "\n",
    "def sumar(lista):\n",
    "    sum=0\n",
    "    for i in range (0,len(lista)):\n",
    "        sum=sum+lista[i]\n",
    "    return sum\n",
    "\n",
    "def imprimir(lista,nombre):\n",
    "    for i in range(0,len(lista)):\n",
    "        print nombre + \"[\" + str(i) + \"]=\" + str(lista[i])\n",
    "\n",
    "\n",
    "def desv(n,m):\n",
    "    pot=0\n",
    "    sum1=0\n",
    "    for i in range (0,len(lista)):\n",
    "        pot=(lista[i]-m)**2\n",
    "        sum1=sum1+pot\n",
    "    return sum1\n",
    "\n",
    "n=input(\"ingrese el tamaño de la muestra \")\n",
    "lista=[]\n",
    "cont=n\n",
    "for i in range (n):\n",
    "    x= input(\"valor \")\n",
    "    lista.append(x)\n",
    "    A=lista\n",
    "    n=n-1\n",
    "\n",
    "imprimir(A,\"A\")\n",
    "s=sumar(A)\n",
    "m=s/(cont*1.0)\n",
    "print \"Media = \" + str(m)\n",
    "print \"Varianza = \"+str(desv(cont,m))\n",
    "print \"Desviacion = \"+ str(sqrt(desv(cont,m)))\n",
    "print \"Suma = \"+ str(s) "
   ]
  },
  {
   "cell_type": "markdown",
   "metadata": {},
   "source": [
    "## "
   ]
  },
  {
   "cell_type": "code",
   "execution_count": null,
   "metadata": {
    "collapsed": true
   },
   "outputs": [],
   "source": []
  }
 ],
 "metadata": {
  "kernelspec": {
   "display_name": "Python 2",
   "language": "python",
   "name": "python2"
  },
  "language_info": {
   "codemirror_mode": {
    "name": "ipython",
    "version": 2
   },
   "file_extension": ".py",
   "mimetype": "text/x-python",
   "name": "python",
   "nbconvert_exporter": "python",
   "pygments_lexer": "ipython2",
   "version": "2.7.11"
  }
 },
 "nbformat": 4,
 "nbformat_minor": 0
}
