{
 "cells": [
  {
   "cell_type": "code",
   "execution_count": 6,
   "metadata": {
    "collapsed": false
   },
   "outputs": [
    {
     "name": "stdout",
     "output_type": "stream",
     "text": [
      "1.000000\n",
      "1.500000\n",
      "2.000000\n",
      "2.500000\n",
      "3.000000\n",
      "3.500000\n",
      "9.000000\n",
      "7.000000\n",
      "5.000000\n",
      "3.000000\n",
      "1.000000\n",
      "-1.000000\n"
     ]
    }
   ],
   "source": [
    "from math import *\n",
    "import matplotlib\n",
    "matplotlib.use(\"Qt4Agg\")\n",
    "from matplotlib import pyplot as plt\n",
    "valores_x1= [] \n",
    "valores_x2= [] \n",
    "x=0\n",
    "def x2(x):\n",
    "    return ((-3/2)*x)+9\n",
    "\n",
    "def xll(x):\n",
    "    return ((0.5)*x)+1\n",
    "\n",
    "for i in range (6):\n",
    "    x_1=xll(i)\n",
    "    valores_x1.append(x_1) \n",
    "    print \"{0:3f}\".format(x_1)\n",
    "for j in range (6):\n",
    "    x_2=x2(j)\n",
    "    valores_x2.append(x_2)\n",
    "    print \"{0:3f}\".format(x_2)\n",
    "\n",
    "    \n",
    "sol_analitica,= plt.plot(valores_x2,\"b-\", label=\"Sol. Analitica\")\n",
    "sol_aprox,= plt.plot(valores_x1,\"r-\", label= \"Sol. Aproximada\")\n",
    "plt.legend(handles=[sol_analitica, sol_aprox], loc= 4)\n",
    "plt.xlabel(\"Tiempo (s)\")\n",
    "plt.ylabel(\"Velocidad (m/s)\")\n",
    "plt.grid(True)\n",
    "plt.show()\n",
    "    "
   ]
  },
  {
   "cell_type": "markdown",
   "metadata": {},
   "source": [
    "###### "
   ]
  }
 ],
 "metadata": {
  "kernelspec": {
   "display_name": "Python 2",
   "language": "python",
   "name": "python2"
  },
  "language_info": {
   "codemirror_mode": {
    "name": "ipython",
    "version": 2
   },
   "file_extension": ".py",
   "mimetype": "text/x-python",
   "name": "python",
   "nbconvert_exporter": "python",
   "pygments_lexer": "ipython2",
   "version": "2.7.11"
  }
 },
 "nbformat": 4,
 "nbformat_minor": 0
}
