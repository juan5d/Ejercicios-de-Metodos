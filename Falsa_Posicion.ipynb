{
 "cells": [
  {
   "cell_type": "code",
   "execution_count": 1,
   "metadata": {
    "collapsed": false
   },
   "outputs": [
    {
     "name": "stdout",
     "output_type": "stream",
     "text": [
      "xi        |xu         | xr        \n",
      "12.000000 | 16.000000 |  14.911303\n",
      "12.000000 | 14.911303 |  14.794193\n",
      "12.000000 | 14.794193 |  14.781695\n",
      "12.000000 | 14.781695 |  14.780363\n",
      "12.000000 | 14.780363 |  14.780221\n",
      "12.000000 | 14.780221 |  14.780206\n",
      "12.000000 | 14.780206 |  14.780204\n",
      "12.000000 | 14.780204 |  14.780204\n",
      "12.000000 | 14.780204 |  14.780204\n",
      "12.000000 | 14.780204 |  14.780204\n",
      "12.000000 | 14.780204 |  14.780204\n",
      "12.000000 | 14.780204 |  14.780204\n",
      "12.000000 | 14.780204 |  14.780204\n",
      "12.000000 | 14.780204 |  14.780204\n",
      "12.000000 | 14.780204 |  14.780204\n",
      "12.000000 | 14.780204 |  14.780204\n"
     ]
    }
   ],
   "source": [
    "import math\n",
    "import numpy as np\n",
    "import pylab as pl\n",
    "\n",
    "valx = []\n",
    "valy = []\n",
    "valejex=[]\n",
    "valejey=[]\n",
    "o=[]\n",
    "ok=[]\n",
    "\n",
    "g=9.8\n",
    "m=68.1\n",
    "t=10\n",
    "v=40\n",
    "xi=12.0\n",
    "xu=16.0\n",
    "print \"{0:9s} |{1:10s} | {2:10s}\".format(\"xi\", \"xu\",\"xr\")\n",
    "def f(c):\n",
    "    return ((g*m/c)*(1-math.exp(-(c/m)*t)))-v\n",
    "def fxr(xi,xu):\n",
    "    return xu-((f(xu)*(xi-xu))/(f(xi)-f(xu)))\n",
    "if((f(xi)*f(xu))<0):\n",
    "    xr=fxr(xi,xu)\n",
    "print \"{0:3f} |{1:10f} | {2:10f}\".format(xi, xu, xr)\n",
    "aux=0\n",
    "while((f(xi)*f(xr))!=0):\n",
    "    if((f(xi)*f(xr))<0):\n",
    "        xu=xr\n",
    "        xr=fxr(xi,xu)\n",
    "        print \"{0:3f} |{1:10f} | {2:10f}\".format(xi, xu, xr)\n",
    "        \n",
    "    else:\n",
    "        if((f(xi)*f(xr))>0):\n",
    "            xi=xr\n",
    "            xr=fxr(xi,xu)\n",
    "            print \"{0:3f} |{1:10f} | {2:10f}\".format(xi, xu, xr)\n",
    "\n",
    "x=12        \n",
    "i=0\n",
    "while(i<=20):\n",
    "    valejex.append(i)\n",
    "    valejey.append(0)\n",
    "    i+=1\n",
    "while(x<=16):\n",
    "    valx.append(x)\n",
    "    valy.append(f(x))\n",
    "    x=x+0.01\n",
    "    \n",
    "o.append(0)   \n",
    "ok.append(xr )   \n",
    "            \n",
    "f1=  pl.plot(valx,valy,\"y\")\n",
    "f2=  pl.plot(valejex,valejey,\"b\")\n",
    "f3=  pl.plot(ok,o,\".\")\n",
    "\n",
    "\n",
    "pl.title(\"Paracaidista Falsa Posicion\")\n",
    "pl.xlabel(\"c\")\n",
    "pl.ylabel(\"f(c)\")\n",
    "f=[\"F(x)\"]\n",
    "pl.legend(f,loc=4)\n",
    "pl.xlim(11,17)\n",
    "pl.ylim(-4, 7)\n",
    "pl.grid(True)\n",
    "\n",
    "pl.show()"
   ]
  },
  {
   "cell_type": "code",
   "execution_count": null,
   "metadata": {
    "collapsed": true
   },
   "outputs": [],
   "source": []
  },
  {
   "cell_type": "code",
   "execution_count": null,
   "metadata": {
    "collapsed": true
   },
   "outputs": [],
   "source": []
  }
 ],
 "metadata": {
  "kernelspec": {
   "display_name": "Python 2",
   "language": "python",
   "name": "python2"
  },
  "language_info": {
   "codemirror_mode": {
    "name": "ipython",
    "version": 2
   },
   "file_extension": ".py",
   "mimetype": "text/x-python",
   "name": "python",
   "nbconvert_exporter": "python",
   "pygments_lexer": "ipython2",
   "version": "2.7.11"
  }
 },
 "nbformat": 4,
 "nbformat_minor": 0
}
