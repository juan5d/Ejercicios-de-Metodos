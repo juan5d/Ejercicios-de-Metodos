{
 "cells": [
  {
   "cell_type": "code",
   "execution_count": 26,
   "metadata": {
    "collapsed": false
   },
   "outputs": [
    {
     "name": "stdout",
     "output_type": "stream",
     "text": [
      "I   |Xi         \n",
      "  0 |  0.000000 \n",
      "  1 |  1.000000 \n",
      "  2 |  0.367879 \n",
      "  3 |  0.692201 \n",
      "  4 |  0.500474 \n",
      "  5 |  0.606244 \n",
      "  6 |  0.545396 \n",
      "  7 |  0.579612 \n",
      "  8 |  0.560115 \n",
      "  9 |  0.571143 \n",
      " 10 |  0.564879 \n",
      " 11 |  0.568429 \n",
      " 12 |  0.566415 \n",
      " 13 |  0.567557 \n",
      " 14 |  0.566909 \n",
      " 15 |  0.567276 \n",
      " 16 |  0.567068 \n",
      " 17 |  0.567186 \n",
      " 18 |  0.567119 \n",
      " 19 |  0.567157 \n",
      " 20 |  0.567135 \n",
      " 21 |  0.567148 \n",
      " 22 |  0.567141 \n",
      " 23 |  0.567145 \n",
      " 24 |  0.567142 \n",
      " 25 |  0.567144 \n",
      " 26 |  0.567143 \n",
      " 27 |  0.567143 \n"
     ]
    }
   ],
   "source": [
    "\n",
    "from math import *\n",
    "xi=0\n",
    "i=0\n",
    "fx=0\n",
    "xi2=0\n",
    "print \"{0:3s} |{1:10s} \".format(\"I\", \"Xi\")\n",
    "def fx(x):\n",
    "    return x-((exp(-x)-x)/((-exp(-x))-1))\n",
    "\n",
    "for i in range(28):\n",
    "    if i==0:\n",
    "        fx=0\n",
    "        print \"{0:3d} |{1:10f} \".format(i, fx)\n",
    "    else:\n",
    "        fx=math.exp(-xi) \n",
    "        print \"{0:3d} |{1:10f} \".format(i, fx)\n",
    "    xi=fx"
   ]
  },
  {
   "cell_type": "code",
   "execution_count": null,
   "metadata": {
    "collapsed": true
   },
   "outputs": [],
   "source": []
  }
 ],
 "metadata": {
  "kernelspec": {
   "display_name": "Python 2",
   "language": "python",
   "name": "python2"
  },
  "language_info": {
   "codemirror_mode": {
    "name": "ipython",
    "version": 2
   },
   "file_extension": ".py",
   "mimetype": "text/x-python",
   "name": "python",
   "nbconvert_exporter": "python",
   "pygments_lexer": "ipython2",
   "version": "2.7.11"
  }
 },
 "nbformat": 4,
 "nbformat_minor": 0
}
