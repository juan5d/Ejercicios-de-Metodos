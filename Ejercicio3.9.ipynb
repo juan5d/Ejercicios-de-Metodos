{
 "cells": [
  {
   "cell_type": "code",
   "execution_count": 13,
   "metadata": {
    "collapsed": false
   },
   "outputs": [
    {
     "name": "stdout",
     "output_type": "stream",
     "text": [
      "I   | Cos(x) Aprox    | Et %               | Ea %               |\n",
      "  1 |             1.0 | 41.221475          | 100.0              |\n",
      "  2 |  0.555867801951 | 5.74191344363      | -79.8988889967     |\n",
      "  3 |  0.588743370175 | 0.162739866552     | 5.58402351337      |\n",
      "  4 |  0.587769963616 | 0.00260074255007   | -0.165610122795    |\n",
      "  5 |  0.587785403659 | 2.61420437773e-05  | 0.00262681627712   |\n",
      "  6 |  0.587785251272 | 2.16406350789e-07  | -2.5925644204e-05  |\n",
      "  7 |  0.587785252297 | 3.90867165679e-07  | 1.74460815268e-07  |\n"
     ]
    }
   ],
   "source": [
    "import math\n",
    "x=0.3*math.pi\n",
    "Es=(0.5*math.pow(10,(-6)))\n",
    "Val=round(math.cos(x), 8)\n",
    "serie,i ,n =0,0,1\n",
    "band=False\n",
    "print(\"{0:3} | {1:15} | {2:18} | {3:18} |\".format(\"I\", \"Cos(x) Aprox\", \"Et % \", \"Ea %\"));\n",
    "while 1:\n",
    "    if(i%2==0):\n",
    "        cosxaprox=math.pow(x, i)/math.factorial(i)\n",
    "        ant=serie\n",
    "        if(band==False):\n",
    "            serie=serie+cosxaprox\n",
    "            band=True\n",
    "        else:\n",
    "            serie=serie-cosxaprox\n",
    "            band=False\n",
    "        Ev=math.fabs(Val-serie)\n",
    "        Et=(Ev/serie)*100\n",
    "        Ea=((serie-ant)/serie)*100\n",
    "        print(\"{0:3} | {1:15} | {2:18} | {3:18} |\".format(n,serie,str(Et),str(Ea)));\n",
    "        n+=1\n",
    "    if(math.fabs(Ea)<Es):\n",
    "        break\n",
    "    i+=1"
   ]
  },
  {
   "cell_type": "code",
   "execution_count": null,
   "metadata": {
    "collapsed": true
   },
   "outputs": [],
   "source": []
  }
 ],
 "metadata": {
  "kernelspec": {
   "display_name": "Python 2",
   "language": "python",
   "name": "python2"
  },
  "language_info": {
   "codemirror_mode": {
    "name": "ipython",
    "version": 2
   },
   "file_extension": ".py",
   "mimetype": "text/x-python",
   "name": "python",
   "nbconvert_exporter": "python",
   "pygments_lexer": "ipython2",
   "version": "2.7.11"
  }
 },
 "nbformat": 4,
 "nbformat_minor": 0
}
