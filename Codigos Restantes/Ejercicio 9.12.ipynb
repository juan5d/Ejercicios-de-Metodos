{
 "cells": [
  {
   "cell_type": "code",
   "execution_count": null,
   "metadata": {
    "collapsed": true
   },
   "outputs": [],
   "source": [
    "n,cte,m = 3,0,[]\n",
    "for i in range(0,n):\n",
    "    m.append([0.0]*(n+1))\n",
    "\n",
    "m[0][0],m[0][1],m[0][2],m[0][3],m[1][0],m[1][1],m[1][2],m[1][3],m[2][0],m[2][1],m[2][2],m[2][3]=2.0,1,-1,1,5,2,2,-4,3,1,1,5\n",
    "\n",
    "def comprobar ():\n",
    "    b=[1.0,-4.0,5.0]\n",
    "    return b\n",
    "\n",
    "def unos(m,cte,n):\n",
    "    temp=0.0\n",
    "    temp=m[cte][cte]\n",
    "    for y in range(0,n+1):\n",
    "        m[cte][y]=m[cte][y]/temp\n",
    "        \n",
    "def hacerCeros(m,cte,n):\n",
    "    for x in range(0,n):\n",
    "        if (x!=cte):\n",
    "            c = m[x][cte]\n",
    "            for z in range(0,n+1):\n",
    "                m[x][z]=((-1*c)*m[cte][z])+m[x][z]\n",
    "                \n",
    "for a in range(0,n):\n",
    "    unos(m,cte,n)\n",
    "    hacerCeros(m,cte,n)\n",
    "    cte += 1\n",
    "for x in range(0,n):\n",
    "    print \"La variable X%d es: %f\"%(x+1,m[x][n])\n",
    "\n",
    "print \" \\n Reemplazando en la primera ecuación : \", 2*(m[0][3])+1*(m[1][3])-1*(m[2][3]), \"igual a : \",comprobar()[0]\n",
    "print \" \\n Reemplazando en la segunda ecuación : \", 5*(m[0][3])+2*(m[1][3])+2*(m[2][3]), \"igual a : \",comprobar()[1]\n",
    "print \" \\n Reemplazando en la tercera ecuación : \", 3*(m[0][3])+1*(m[1][3])+1*(m[2][3]), \"igual a : \",comprobar()[2]"
   ]
  }
 ],
 "metadata": {
  "kernelspec": {
   "display_name": "Python 2",
   "language": "python",
   "name": "python2"
  },
  "language_info": {
   "codemirror_mode": {
    "name": "ipython",
    "version": 2
   },
   "file_extension": ".py",
   "mimetype": "text/x-python",
   "name": "python",
   "nbconvert_exporter": "python",
   "pygments_lexer": "ipython2",
   "version": "2.7.11"
  }
 },
 "nbformat": 4,
 "nbformat_minor": 0
}
