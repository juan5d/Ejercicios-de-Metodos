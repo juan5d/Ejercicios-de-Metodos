{
 "cells": [
  {
   "cell_type": "code",
   "execution_count": 1,
   "metadata": {
    "collapsed": false
   },
   "outputs": [
    {
     "name": "stdout",
     "output_type": "stream",
     "text": [
      "\n",
      "ERROR TOLERADO:  0.05 %\n",
      "TIEMPO |SOLUCION APROXIMADA|    Et       |   Ea %    \n",
      "  0    |       1.000000    | 39.346934   | 100.000000       \n",
      "  1    |       1.500000    |  9.020401   | 33.333333       \n",
      "  2    |       1.625000    |  1.438768   | 7.692308       \n",
      "  3    |       1.645833    |  0.175162   | 1.265823       \n",
      "  4    |       1.648438    |  0.017212   | 0.157978       \n",
      "  5    |       1.648698    |  0.001416   | 0.015795       \n"
     ]
    }
   ],
   "source": [
    "from math import *\n",
    "import matplotlib\n",
    "\n",
    "\n",
    "n= 3 \n",
    "\n",
    "Es= 0.5*10**(2-n)  \n",
    "\n",
    "val_ant= 0.0     \n",
    "val_ex= 1.0   \n",
    "Et= 0      \n",
    "Ea= 0.0\n",
    "t= 0\n",
    "x=0.5\n",
    "\n",
    "\n",
    "print \"\\nERROR TOLERADO: \",Es,\"%\"  \n",
    "print \"{0:3s} |{1:18s}|{2:12s} | {3:10s}\".format(\"TIEMPO\",\"SOLUCION APROXIMADA\",\"    Et\",\"  Ea %\")\n",
    "\n",
    "\n",
    "while True:\n",
    "    if t==1:\n",
    "        val_ex=val_ex+x\n",
    "    if t>1:\n",
    "        val_ex=val_ex+((x**t)/factorial(t))\n",
    "    \n",
    "    val_real=exp(0.5)\n",
    "        \n",
    "    if val_ex!=0:\n",
    "        Et= ((val_real - val_ex)/val_real)*100\n",
    "        Ea= (abs( val_ex - val_ant)/val_ex)*100\n",
    "    val_ant= val_ex\n",
    "\n",
    "    \n",
    "\n",
    "    print \"{0:3d}    |{1:15f}    | {2:9f}   | {3:2f}       \".format(t, val_ex,Et,Ea)\n",
    "\n",
    "\n",
    "    if Ea < Es and t != 0:  \n",
    "        break\n",
    "\n",
    "    t+=1  "
   ]
  },
  {
   "cell_type": "code",
   "execution_count": null,
   "metadata": {
    "collapsed": true
   },
   "outputs": [],
   "source": []
  }
 ],
 "metadata": {
  "kernelspec": {
   "display_name": "Python 2",
   "language": "python",
   "name": "python2"
  },
  "language_info": {
   "codemirror_mode": {
    "name": "ipython",
    "version": 2
   },
   "file_extension": ".py",
   "mimetype": "text/x-python",
   "name": "python",
   "nbconvert_exporter": "python",
   "pygments_lexer": "ipython2",
   "version": "2.7.11"
  }
 },
 "nbformat": 4,
 "nbformat_minor": 0
}
