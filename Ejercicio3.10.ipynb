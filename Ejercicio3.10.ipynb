{
 "cells": [
  {
   "cell_type": "code",
   "execution_count": 8,
   "metadata": {
    "collapsed": false
   },
   "outputs": [
    {
     "name": "stdout",
     "output_type": "stream",
     "text": [
      "\n",
      " 1ra Formula \n",
      "V.Real     | V.Aprox    | Er %       |\n",
      "      5000 |     5000.0 |        0.0 |\n",
      "     0.002 |      0.002 | 249999900.0 |\n",
      "\n",
      " 2da Formula \n",
      "V.Real     | V.Aprox    | Error Rel % |\n",
      "      5000 |     5000.0 |        0.0 |\n",
      "     0.002 |      0.002 |        0.0 |\n"
     ]
    }
   ],
   "source": [
    "import math\n",
    "\n",
    "x1real=5000\n",
    "x2real=0.002\n",
    "a,b,c=1,-5000.002,10\n",
    "\n",
    "def fxr1():\n",
    "    return (-b+math.pow(b*b-4*a*c ,0.5))/2*a\n",
    "\n",
    "def fxa1():\n",
    "    return round((-b-math.pow(b*b-4*a*c,0.5))/2*a,5)\n",
    "\n",
    "def fxr2():\n",
    "    return round((-2*c)/(b+math.pow(b*b-4*a*c,0.5)),5)\n",
    "def fxa2():\n",
    "    return round((-2*c)/(b-math.pow(b*b-4*a*c,0.5)),5)\n",
    "    \n",
    "print(\"\\n 1ra Formula \")\n",
    "print(\"{0:10} | {1:10} | {2:10} |\".format(\"V.Real\", \"V.Aprox\", \"Er %\"));\n",
    "\n",
    "Ev= math.fabs(x1real-fxr1())\n",
    "Et=(Ev/x1)*100\n",
    "print(\"{0:10} | {1:10} | {2:10} |\".format(x1real,fxr1(),Et));\n",
    "\n",
    "Ev= math.fabs(x2real-fxr1())\n",
    "Et=(Ev/x2)*100\n",
    "print(\"{0:10} | {1:10} | {2:10} |\".format(x2real,fxa1(),Et));\n",
    "    \n",
    "print(\"\\n 2da Formula \");\n",
    "print(\"{0:10} | {1:10} | {2:10} |\".format(\"V.Real\", \"V.Aprox\", \"Error Rel %\"));\n",
    "\n",
    "Ev= x1real-fxr2()\n",
    "Et=(Ev/xx1)*100\n",
    "print(\"{0:10} | {1:10} | {2:10} |\".format(x1real,fxr2(),Et));\n",
    " \n",
    "Ev= x2real-fxa2()\n",
    "Et=(Ev/xx2)*100\n",
    "print(\"{0:10} | {1:10} | {2:10} |\".format(x2real,fxa2(),Et));"
   ]
  },
  {
   "cell_type": "code",
   "execution_count": null,
   "metadata": {
    "collapsed": true
   },
   "outputs": [],
   "source": []
  }
 ],
 "metadata": {
  "kernelspec": {
   "display_name": "Python 2",
   "language": "python",
   "name": "python2"
  },
  "language_info": {
   "codemirror_mode": {
    "name": "ipython",
    "version": 2
   },
   "file_extension": ".py",
   "mimetype": "text/x-python",
   "name": "python",
   "nbconvert_exporter": "python",
   "pygments_lexer": "ipython2",
   "version": "2.7.11"
  }
 },
 "nbformat": 4,
 "nbformat_minor": 0
}
