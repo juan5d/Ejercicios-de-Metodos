{
 "cells": [
  {
   "cell_type": "code",
   "execution_count": 9,
   "metadata": {
    "collapsed": false
   },
   "outputs": [
    {
     "name": "stdout",
     "output_type": "stream",
     "text": [
      "X1: 3.00137888889\n",
      "X2: -2.48732615646\n",
      "X3: 7.1679452381\n"
     ]
    }
   ],
   "source": [
    "from math import *\n",
    "\n",
    "\n",
    "def fx1(x2,x3):\n",
    "    return ((0.1*(x2))+(0.2*(x3))+7.85)/(3)\n",
    "def fx2(x1,x3):\n",
    "    return ((-0.1*(x1))+(0.3*(x3))-19.3)/(7)\n",
    "def fx3(x1,x2):\n",
    "    return ((-0.3*(x2))+(0.2*(x2))+71.4)/(10)\n",
    "\n",
    "\n",
    "for i in range (3):\n",
    "    if i==0:\n",
    "        x1=fx1(0,0)\n",
    "        print \"X1:\",fx1(x2,x3)\n",
    "    if i==1:\n",
    "        x2=fx2(x1,0)\n",
    "        print \"X2:\",fx2(x1,x3)\n",
    "    if i==2:\n",
    "        x3=fx3(x1,x2)\n",
    "        print \"X3:\",fx3(x1,x2)\n",
    "\n",
    "\n"
   ]
  },
  {
   "cell_type": "code",
   "execution_count": null,
   "metadata": {
    "collapsed": true
   },
   "outputs": [],
   "source": []
  }
 ],
 "metadata": {
  "kernelspec": {
   "display_name": "Python 2",
   "language": "python",
   "name": "python2"
  },
  "language_info": {
   "codemirror_mode": {
    "name": "ipython",
    "version": 2
   },
   "file_extension": ".py",
   "mimetype": "text/x-python",
   "name": "python",
   "nbconvert_exporter": "python",
   "pygments_lexer": "ipython2",
   "version": "2.7.11"
  }
 },
 "nbformat": 4,
 "nbformat_minor": 0
}
