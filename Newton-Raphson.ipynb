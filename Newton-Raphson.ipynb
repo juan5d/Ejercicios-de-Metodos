{
 "cells": [
  {
   "cell_type": "code",
   "execution_count": 19,
   "metadata": {
    "collapsed": false
   },
   "outputs": [
    {
     "name": "stdout",
     "output_type": "stream",
     "text": [
      "I   |Xi         | Et        \n",
      "  0 |  0.500000 | 100.000000\n",
      "  1 |  0.566311 |  11.709291\n",
      "  2 |  0.567143 |   0.146729\n",
      "  3 |  0.567143 |   0.000022\n",
      "  4 |  0.567143 |   0.000000\n",
      "  5 |  0.567143 |  -0.000000\n"
     ]
    }
   ],
   "source": [
    "from math import *\n",
    "\n",
    "print \"{0:3s} |{1:10s} | {2:10s}\".format(\"I\", \"Xi\",\"Et\")\n",
    "def fx(x):\n",
    "    return x-((exp(-x)-x)/((-exp(-x))-1))\n",
    "\n",
    "for i in range(6):\n",
    "    if i==0:\n",
    "        cont=fx(0)\n",
    "        print \"{0:3d} |{1:10f} | {2:10f}\".format(i, cont,100)\n",
    "    else:\n",
    "        Er= ((fx(cont) - cont)/fx(cont))*100\n",
    "        cont= fx(cont)\n",
    "        print \"{0:3d} |{1:10f} | {2:10f}\".format(i, cont,Er)"
   ]
  },
  {
   "cell_type": "code",
   "execution_count": null,
   "metadata": {
    "collapsed": true
   },
   "outputs": [],
   "source": []
  }
 ],
 "metadata": {
  "kernelspec": {
   "display_name": "Python 2",
   "language": "python",
   "name": "python2"
  },
  "language_info": {
   "codemirror_mode": {
    "name": "ipython",
    "version": 2
   },
   "file_extension": ".py",
   "mimetype": "text/x-python",
   "name": "python",
   "nbconvert_exporter": "python",
   "pygments_lexer": "ipython2",
   "version": "2.7.11"
  }
 },
 "nbformat": 4,
 "nbformat_minor": 0
}
