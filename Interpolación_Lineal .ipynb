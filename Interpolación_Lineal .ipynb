{
 "cells": [
  {
   "cell_type": "code",
   "execution_count": null,
   "metadata": {
    "collapsed": true
   },
   "outputs": [],
   "source": [
    "import math\n",
    "import matplotlib.pyplot as pl\n",
    "import numpy as np\n",
    "\n",
    "f = lambda x: math.log(x)\n",
    "\n",
    "def m(x0, x1):\n",
    "    fx0 = f(x0)\n",
    "    fx1 = f(x1)\n",
    "\n",
    "    return (fx1 - fx0) / (x1 - x0)\n",
    "\n",
    "def interpol(x0, x1, x):\n",
    "    fx0 = f(x0)\n",
    "    fx1 = f(x1)\n",
    "\n",
    "    fx = fx0 + m(x0,x1) * (x - x0)\n",
    "\n",
    "    return fx\n",
    "\n",
    "\n",
    "x = range(1,7)        \n",
    "fx = []\n",
    "v_interpol = []\n",
    "v_ep = np.arange(1,6,0.1)\n",
    "fep = []        \n",
    "\n",
    "for xi in x:\n",
    "    fx.append(f(xi))\n",
    "    v_interpol.append(interpol(xi, xi+1, xi))\n",
    "\n",
    "for i in v_ep:\n",
    "    fep.append(f(i))\n",
    "\n",
    "\n",
    "\n",
    "pl.title(u\"Interpolación Ln x\")\n",
    "pl.plot(x,fx, \"ro\", label= \"Ln(x) Discreto\")        \n",
    "pl.plot(x,v_interpol, label=u\"Interpolación Lineal\", lw=1.5)         \n",
    "pl.plot(v_ep,fep, label=u\"Ln(x) Original\", lw=1.5)\n",
    "pl.legend(loc=4)\n",
    "pl.grid(True)\n",
    "pl.show()"
   ]
  },
  {
   "cell_type": "code",
   "execution_count": null,
   "metadata": {
    "collapsed": true
   },
   "outputs": [],
   "source": []
  }
 ],
 "metadata": {
  "kernelspec": {
   "display_name": "Python 2",
   "language": "python",
   "name": "python2"
  },
  "language_info": {
   "codemirror_mode": {
    "name": "ipython",
    "version": 2
   },
   "file_extension": ".py",
   "mimetype": "text/x-python",
   "name": "python",
   "nbconvert_exporter": "python",
   "pygments_lexer": "ipython2",
   "version": "2.7.11"
  }
 },
 "nbformat": 4,
 "nbformat_minor": 0
}
