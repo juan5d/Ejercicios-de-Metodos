{
 "cells": [
  {
   "cell_type": "code",
   "execution_count": 32,
   "metadata": {
    "collapsed": false
   },
   "outputs": [
    {
     "name": "stdout",
     "output_type": "stream",
     "text": [
      "               |    1x1  0.667x2 :     6 |\n",
      "Matriz A =     | -0.5x1      1x2 :     1 |\n",
      "\n",
      "\n",
      "Determinante del sistema bien condicionado=  1.3335\n",
      "\n",
      "               |  0.5x1      1x2 :     5 |\n",
      "Matriz B =     | 0.55x1      1x2 :   5.2 |\n",
      "\n",
      "Determinante del sistema mal condicionado=  -0.05\n"
     ]
    }
   ],
   "source": [
    "import math \n",
    "sol=0\n",
    "#Para el sistema bien condicionado\n",
    "def BienCondic():\n",
    "    a11=1\n",
    "    a12=0.667\n",
    "    a21=-0.5\n",
    "    a22=1\n",
    "    b1=6\n",
    "    b2=1\n",
    "    print (\"{0:15}|{1:5}x1  {2:5}x2 : {3:5} |\".format(\"\",a11,a12,b1));\n",
    "    print (\"{0:15}|{1:5}x1  {2:5}x2 : {3:5} |\\n\".format(\"Matriz A =\",a21,a22,b2));\n",
    "    return Determinante(a11,a22,a12,a21)\n",
    "#Para el sistema Mal condicionado\n",
    "def MalCondic():\n",
    "    a11=0.5\n",
    "    a12=1\n",
    "    a21=0.55\n",
    "    a22=1\n",
    "    b1=5\n",
    "    b2=5.2\n",
    "    print (\"\\n{0:15}|{1:5}x1  {2:5}x2 : {3:5} |\".format(\"\",a11,a12,b1));\n",
    "    print (\"{0:15}|{1:5}x1  {2:5}x2 : {3:5} |\".format(\"Matriz B =\",a21,a22,b2));\n",
    "    \n",
    "    return Determinante(a11,a22,a12,a21)\n",
    "\n",
    "def Determinante(a11,a22,a12,a21):\n",
    "    return (a11*a22)-(a12*a21)\n",
    "\n",
    "sol=BienCondic()\n",
    "print \"\\nDeterminante del sistema bien condicionado= \",sol\n",
    "sol=MalCondic()\n",
    "print \"\\nDeterminante del sistema mal condicionado= \",sol\n",
    "\n",
    "\n"
   ]
  },
  {
   "cell_type": "code",
   "execution_count": null,
   "metadata": {
    "collapsed": true
   },
   "outputs": [],
   "source": []
  },
  {
   "cell_type": "code",
   "execution_count": null,
   "metadata": {
    "collapsed": true
   },
   "outputs": [],
   "source": []
  }
 ],
 "metadata": {
  "kernelspec": {
   "display_name": "Python 2",
   "language": "python",
   "name": "python2"
  },
  "language_info": {
   "codemirror_mode": {
    "name": "ipython",
    "version": 2
   },
   "file_extension": ".py",
   "mimetype": "text/x-python",
   "name": "python",
   "nbconvert_exporter": "python",
   "pygments_lexer": "ipython2",
   "version": "2.7.11"
  }
 },
 "nbformat": 4,
 "nbformat_minor": 0
}
