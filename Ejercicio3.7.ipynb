{
 "cells": [
  {
   "cell_type": "code",
   "execution_count": 2,
   "metadata": {
    "collapsed": false
   },
   "outputs": [
    {
     "name": "stdout",
     "output_type": "stream",
     "text": [
      "Formula              | Val Verdadero        | Aprox      | Et %                 |\n",
      "1er formula          |             0.743053 |      0.743 |     0.00713324360701 |\n",
      "2da formula          |             0.743053 |      0.743 |     0.00713324360688 |\n"
     ]
    }
   ],
   "source": [
    "import math\n",
    "\n",
    "x=1.37\n",
    "y=x*x*x-7*x*x+8*x+0.35\n",
    "val=y\n",
    "y=round(y,3)\n",
    "Ev=val-y\n",
    "Et=(Ev/y)*100\n",
    "print(\"{0:20} | {1:20} | {2:10} | {3:20} |\".format(\"Formula\", \"Val Verdadero\", \"Aprox\", \"Et %\"));\n",
    "print(\"{0:20} | {1:20} | {2:10} | {3:20} |\".format(\"1er formula \",val, y, Et));\n",
    "    \n",
    "    \n",
    "y=((x-7)*x+8)*x+0.35\n",
    "val=y\n",
    "y=round(y,3)\n",
    "Ev=val-y\n",
    "Et=(Ev/y)*100\n",
    "print(\"{0:20} | {1:20} | {2:10} | {3:20} |\".format(\"2da formula \",val, y, Et));"
   ]
  },
  {
   "cell_type": "code",
   "execution_count": null,
   "metadata": {
    "collapsed": true
   },
   "outputs": [],
   "source": []
  }
 ],
 "metadata": {
  "kernelspec": {
   "display_name": "Python 2",
   "language": "python",
   "name": "python2"
  },
  "language_info": {
   "codemirror_mode": {
    "name": "ipython",
    "version": 2
   },
   "file_extension": ".py",
   "mimetype": "text/x-python",
   "name": "python",
   "nbconvert_exporter": "python",
   "pygments_lexer": "ipython2",
   "version": "2.7.11"
  }
 },
 "nbformat": 4,
 "nbformat_minor": 0
}
