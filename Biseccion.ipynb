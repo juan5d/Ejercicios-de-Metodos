{
 "cells": [
  {
   "cell_type": "code",
   "execution_count": 103,
   "metadata": {
    "collapsed": false
   },
   "outputs": [
    {
     "name": "stdout",
     "output_type": "stream",
     "text": [
      "It  | Xl           | Xu           | Xr           | Ea          \n",
      "  1 |     1.000000 |     2.000000 |     1.500000 |   100.000000\n",
      "  2 |     2.000000 |     3.000000 |     2.500000 |    40.000000\n",
      "  3 |     3.000000 |     4.000000 |     3.500000 |    28.571429\n",
      "  4 |     4.000000 |     5.000000 |     4.500000 |    22.222222\n",
      "  5 |     5.000000 |     6.000000 |     5.500000 |    18.181818\n",
      "  6 |     6.000000 |     7.000000 |     6.500000 |    15.384615\n",
      "  7 |     7.000000 |     8.000000 |     7.500000 |    13.333333\n",
      "  8 |     8.000000 |     9.000000 |     8.500000 |    11.764706\n",
      "  9 |     9.000000 |    10.000000 |     9.500000 |    10.526316\n",
      " 10 |    10.000000 |    11.000000 |    10.500000 |     9.523810\n",
      " 11 |    11.000000 |    12.000000 |    11.500000 |     8.695652\n",
      " 12 |    12.000000 |    13.000000 |    12.500000 |     8.000000\n",
      " 13 |    13.000000 |    14.000000 |    13.500000 |     7.407407\n",
      " 14 |    14.000000 |    15.000000 |    14.500000 |     6.896552\n",
      " 15 |    14.500000 |    15.000000 |    14.750000 |     1.694915\n",
      " 16 |    14.750000 |    15.000000 |    14.875000 |     0.840336\n",
      " 17 |    14.750000 |    14.875000 |    14.812500 |     0.421941\n",
      " 18 |    14.750000 |    14.812500 |    14.781250 |     0.211416\n",
      " 19 |    14.750000 |    14.781250 |    14.765625 |     0.105820\n"
     ]
    }
   ],
   "source": [
    "import math\n",
    "\n",
    "def funcion(x):\n",
    "    return (667.38/x)*(1-math.exp(-0.146843*x))-40\n",
    "\n",
    "\n",
    "xi=1\n",
    "xu=xi+1\n",
    "xr_ant=0\n",
    "xr= (xi+xu)/2.0\n",
    "print \"{0:3s} | {1:12s} | {2:12s} | {3:12s} | {4:12s}\".format(\"It\", \"Xl\", \"Xu\",\"Xr\",\"Ea\")\n",
    "for i in range(1,20):\n",
    "    \n",
    "    \n",
    "    xr= (xi+xu)/2.0\n",
    "    Ea = abs((xr - xr_ant) / xr) * 100 \n",
    "    \n",
    "    fxi=funcion(xi)\n",
    "    fxu=funcion(xu)\n",
    "    fxr=funcion(xr)\n",
    "    print \"{0:3d} | {1:12f} | {2:12f} | {3:12f} | {4:12f}\".format(i, xi, xu, xr, Ea)\n",
    "    x=round(fxi)\n",
    "    if x<=2:\n",
    "        if(fxi*fxr<0):\n",
    "            xu=xr\n",
    "        if(fxi*fxr>0):\n",
    "            xi=xr\n",
    "        \n",
    "    else:\n",
    "        xi=xi+1\n",
    "        xu=xi+1\n",
    "    xr_ant = xr"
   ]
  },
  {
   "cell_type": "code",
   "execution_count": null,
   "metadata": {
    "collapsed": true
   },
   "outputs": [],
   "source": []
  },
  {
   "cell_type": "code",
   "execution_count": null,
   "metadata": {
    "collapsed": true
   },
   "outputs": [],
   "source": []
  }
 ],
 "metadata": {
  "kernelspec": {
   "display_name": "Python 2",
   "language": "python",
   "name": "python2"
  },
  "language_info": {
   "codemirror_mode": {
    "name": "ipython",
    "version": 2
   },
   "file_extension": ".py",
   "mimetype": "text/x-python",
   "name": "python",
   "nbconvert_exporter": "python",
   "pygments_lexer": "ipython2",
   "version": "2.7.11"
  }
 },
 "nbformat": 4,
 "nbformat_minor": 0
}
