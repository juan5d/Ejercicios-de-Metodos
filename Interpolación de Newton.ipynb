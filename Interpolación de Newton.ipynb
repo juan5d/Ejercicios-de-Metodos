{
 "cells": [
  {
   "cell_type": "code",
   "execution_count": 20,
   "metadata": {
    "collapsed": false
   },
   "outputs": [
    {
     "name": "stdout",
     "output_type": "stream",
     "text": [
      "Ingrese el grado del polinomio a evaluar: 2\n",
      "\n",
      "\n",
      "[[0.0, 0.0, 0.0], [0.0, 0.0, 0.0], [0.0, 0.0, 0.0]]\n",
      "[0.0, 0.0, 0.0]\n",
      "Valor de x: 1\n",
      "Valor de f(x)2\n",
      "Valor de x: 3\n",
      "Valor de f(x)4\n",
      "Valor de x: 5\n",
      "Valor de f(x)6\n",
      "\n",
      "[1.0, 3.0, 5.0]\n",
      "[[2.0, 0.0, 0.0], [4.0, 0.0, 0.0], [6.0, 0.0, 0.0]]\n",
      "\n",
      "Punto a evaluar: 4\n",
      "\n",
      "i= 1     j= 1 \n",
      "\n",
      "( 4.0 - 2.0 )\n",
      "-----------\n",
      "( 3.0 - 1.0 )\n",
      "matriz[ 1 ][ 1 ] =  1.0 \n",
      "\n",
      "\n",
      "\n",
      "i= 1     j= 2 \n",
      "\n",
      "( 6.0 - 4.0 )\n",
      "-----------\n",
      "( 5.0 - 3.0 )\n",
      "matriz[ 2 ][ 1 ] =  1.0 \n",
      "\n",
      "\n",
      "\n",
      "i= 2     j= 2 \n",
      "\n",
      "( 1.0 - 1.0 )\n",
      "-----------\n",
      "( 5.0 - 1.0 )\n",
      "matriz[ 2 ][ 2 ] =  0.0 \n",
      "\n",
      "\n",
      "[2.0, 0.0, 0.0]\n",
      "[4.0, 1.0, 0.0]\n",
      "[6.0, 1.0, 0.0]\n",
      "matriz[ 0 ][ 0 ] = 2.0\n",
      "mul antes del ciclo j= 2.0\n",
      "matriz[ 1 ][ 1 ] = 1.0\n",
      "mul antes del ciclo j= 1.0\n",
      "mul en el ciclo j= 3.0\n",
      "matriz[ 2 ][ 2 ] = 0.0\n",
      "mul antes del ciclo j= 0.0\n",
      "mul en el ciclo j= 0.0\n",
      "mul en el ciclo j= 0.0\n",
      "El valor aproximado de f( 4.0 ) es:  5.0\n"
     ]
    }
   ],
   "source": [
    "n = int(input(\"Ingrese el grado del polinomio a evaluar: \"))+1\n",
    "\n",
    "\n",
    "matriz = [0.0] * n\n",
    "for i in range(n):\n",
    "    matriz[i] = [0.0] * n\n",
    "\n",
    "vector = [0.0] * n\n",
    "print \"\\n\"\n",
    "print (matriz)\n",
    "print (vector)\n",
    "for i in range(n):\n",
    "    x = input(\"Valor de x: \")\n",
    "    y = input (\"Valor de f(x)\")\n",
    "    vector[i]=float(x)\n",
    "    matriz[i][0]=float(y)\n",
    "\n",
    "print \"\\n\",(vector)    \n",
    "print (matriz)\n",
    "\n",
    "punto_a_evaluar = float(input(\"\\nPunto a evaluar: \"))\n",
    "\n",
    "for i in range(1,n):\n",
    "    for j in range(i,n):\n",
    "        print \"\\ni=\",i,\"    j=\",j,\"\\n\"\n",
    "        print \"(\",matriz[j][i-1],\"-\",matriz[j-1][i-1],\")\\n-----------\\n(\",vector[j],\"-\",vector[j-i],\")\"\n",
    "        matriz[j][i] = ( (matriz[j][i-1]-matriz[j-1][i-1]) / (vector[j]-vector[j-i]))\n",
    "        print \"matriz[\",j,\"][\",i,\"] = \",(matriz[j][i-1]-matriz[j-1][i-1])/(vector[j]-vector[j-i]),\"\\n\\n\"\n",
    "\n",
    "\n",
    "for i in range(n):\n",
    "    print (matriz[i])\n",
    "\n",
    "aprx = 0\n",
    "mul = 1.0\n",
    "for i in range(n):\n",
    "    print \"matriz[\",i,\"][\",i,\"]\",\"=\",matriz[i][i]\n",
    "    mul = matriz[i][i];\n",
    "    print \"mul antes del ciclo j=\",mul\n",
    "    for j in range(1,i+1):\n",
    "        mul = mul * (punto_a_evaluar - vector[j-1])\n",
    "        print \"mul en el ciclo j=\",mul\n",
    "    # print aprx\n",
    "    aprx = aprx + mul\n",
    "\n",
    "\n",
    "print \"El valor aproximado de f(\",punto_a_evaluar,\") es: \", aprx"
   ]
  },
  {
   "cell_type": "markdown",
   "metadata": {},
   "source": [
    "##### "
   ]
  },
  {
   "cell_type": "code",
   "execution_count": null,
   "metadata": {
    "collapsed": true
   },
   "outputs": [],
   "source": []
  }
 ],
 "metadata": {
  "kernelspec": {
   "display_name": "Python 2",
   "language": "python",
   "name": "python2"
  },
  "language_info": {
   "codemirror_mode": {
    "name": "ipython",
    "version": 2
   },
   "file_extension": ".py",
   "mimetype": "text/x-python",
   "name": "python",
   "nbconvert_exporter": "python",
   "pygments_lexer": "ipython2",
   "version": "2.7.11"
  }
 },
 "nbformat": 4,
 "nbformat_minor": 0
}
