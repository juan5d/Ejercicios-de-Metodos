{
 "cells": [
  {
   "cell_type": "code",
   "execution_count": 24,
   "metadata": {
    "collapsed": false
   },
   "outputs": [
    {
     "name": "stdout",
     "output_type": "stream",
     "text": [
      "Ingrese el valor de x0 1\n",
      "\n",
      "Ingrese el valor de x1 4\n",
      "\n",
      "Ingrese el valor de x2 6\n",
      "\n",
      "Ingrese los valores de f(x0) 0\n",
      "\n",
      "Ingrese los valores de f(x1) 1.386294\n",
      "\n",
      "Ingrese los valores de f(x2) 1.791760\n",
      "Ingrese el valor de X 2\n",
      "La estimacion del polinomio en primer grado en X= 0.462098\n",
      "La estimacion del polinomio en segundo grado en X= 0.565844\n"
     ]
    }
   ],
   "source": [
    "def grado0(X,x0,x1,x2,fx0,fx1):\n",
    "    return (((X-x1)/(x0-x1))*fx0)+(((X-x0)/(x1-x0))*fx1)\n",
    "\n",
    "\n",
    "def grado2(X,x0,x1,x2,fx0,fx1,fx2):\n",
    "    return ((((X-x1)*(X-x2))/((x0-x1)*(x0-x2)))*fx0)+((((X-x0)*(X-x2))/((x1-x0)*(x1-x2)))*fx1)+((((X-x0)*(X-x1))/((x2-x0)*(x2-x1)))*fx2)\n",
    "    \n",
    "\n",
    "x0= float (input (\"Ingrese el valor de x0 \"))\n",
    "x1= float (input (\"\\nIngrese el valor de x1 \"))\n",
    "x2= float (input (\"\\nIngrese el valor de x2 \"))\n",
    "\n",
    "\n",
    "fx0= float (input (\"\\nIngrese los valores de f(x0) \"))\n",
    "fx1= float (input (\"\\nIngrese los valores de f(x1) \"))\n",
    "fx2= float (input (\"\\nIngrese los valores de f(x2) \"))\n",
    "\n",
    "X=int (input (\"Ingrese el valor de X \"))\n",
    "\n",
    "result1=grado0(X,x0,x1,x2,fx0,fx1)\n",
    "\n",
    "print \"La estimacion del polinomio en primer grado en X=\", result1\n",
    "\n",
    "result2=grado2(X,x0,x1,x2,fx0,fx1,fx2)\n",
    "  \n",
    "print \"La estimacion del polinomio en segundo grado en X=\", result2"
   ]
  },
  {
   "cell_type": "code",
   "execution_count": null,
   "metadata": {
    "collapsed": true
   },
   "outputs": [],
   "source": []
  },
  {
   "cell_type": "code",
   "execution_count": null,
   "metadata": {
    "collapsed": true
   },
   "outputs": [],
   "source": []
  }
 ],
 "metadata": {
  "kernelspec": {
   "display_name": "Python 2",
   "language": "python",
   "name": "python2"
  },
  "language_info": {
   "codemirror_mode": {
    "name": "ipython",
    "version": 2
   },
   "file_extension": ".py",
   "mimetype": "text/x-python",
   "name": "python",
   "nbconvert_exporter": "python",
   "pygments_lexer": "ipython2",
   "version": "2.7.11"
  }
 },
 "nbformat": 4,
 "nbformat_minor": 0
}
