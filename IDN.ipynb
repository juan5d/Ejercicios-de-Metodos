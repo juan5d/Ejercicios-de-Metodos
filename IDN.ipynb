{
 "cells": [
  {
   "cell_type": "code",
   "execution_count": 11,
   "metadata": {
    "collapsed": false
   },
   "outputs": [
    {
     "name": "stdout",
     "output_type": "stream",
     "text": [
      "simple 0.1728\n",
      "multiple 1.0688\n"
     ]
    }
   ],
   "source": [
    "def trapw(h,f):\n",
    "    trapw=h*(f[0]+f[1])/2\n",
    "    return trapw\n",
    "\n",
    "\n",
    "def trapm(h,n,f):\n",
    "    sum=f[0]\n",
    "    for i in range (1,n):\n",
    "        sum=sum+2*f[i]\n",
    "    sum=sum+f[n]\n",
    "    trapm=h*sum/(2*n)\n",
    "    return trapm\n",
    "\n",
    "a=0\n",
    "b=0.8\n",
    "h=b-a\n",
    "n=0\n",
    "f=[0.2,0.232]\n",
    "print \"simple\",trapw(h,f)\n",
    "h=0.8\n",
    "n=2\n",
    "\n",
    "f=[0.2,2.456,0.232]\n",
    "\n",
    "print \"multiple\",trapm(h,n,f)"
   ]
  },
  {
   "cell_type": "code",
   "execution_count": 12,
   "metadata": {
    "collapsed": false
   },
   "outputs": [
    {
     "name": "stdout",
     "output_type": "stream",
     "text": [
      "simple 1.36746666667\n"
     ]
    }
   ],
   "source": [
    "#simpson 1/3 simple\n",
    "\n",
    "def trapw(h,f):\n",
    "    trapw=h*((f[0]+4*f[1]+f[2])/6)\n",
    "    return trapw\n",
    "    \n",
    "a=0\n",
    "b=0.8\n",
    "h=b-a\n",
    "\n",
    "f=[0.2,2.456,0.232]\n",
    "\n",
    "print \"simple\",trapw(h,f) "
   ]
  },
  {
   "cell_type": "code",
   "execution_count": 13,
   "metadata": {
    "collapsed": false
   },
   "outputs": [
    {
     "name": "stdout",
     "output_type": "stream",
     "text": [
      "multiple 1.62346666667\n"
     ]
    }
   ],
   "source": [
    "#simpson 1/3 multiple\n",
    "\n",
    "\n",
    "def trapm(h,n,f):\n",
    "    sum=f[0]\n",
    "    for i in range (1,n):\n",
    "        if (i==0 or i==2 or i==4 or i==6):\n",
    "            sum=sum+2*f[i]\n",
    "        if (i==1 or i==3 or i==5 or i==7):\n",
    "            sum=sum+4*f[i]\n",
    "    sum=sum+f[n]\n",
    "    trapm=h*sum/(3*n)\n",
    "    return trapm\n",
    "\n",
    "h=0.8\n",
    "n=4\n",
    "\n",
    "f=[0.2,1.288,2.456,3.464,0.232]\n",
    "\n",
    "print \"multiple\",trapm(h,n,f)"
   ]
  },
  {
   "cell_type": "code",
   "execution_count": 14,
   "metadata": {
    "collapsed": false
   },
   "outputs": [
    {
     "name": "stdout",
     "output_type": "stream",
     "text": [
      "simple 1.5191703\n"
     ]
    }
   ],
   "source": [
    "#simpson 3/8 simple\n",
    "\n",
    "def trapw(h,f):\n",
    "    trapw=h*(f[0]+3*(f[1]+f[2])+f[3])/8\n",
    "    return trapw \n",
    "\n",
    "\n",
    "a=0\n",
    "b=0.8\n",
    "h=b-a\n",
    "\n",
    "f=[0.2,1.432724,3.487177,0.232]\n",
    "\n",
    "print \"simple\",trapw(h,f)"
   ]
  },
  {
   "cell_type": "code",
   "execution_count": 15,
   "metadata": {
    "collapsed": false
   },
   "outputs": [
    {
     "name": "stdout",
     "output_type": "stream",
     "text": [
      "1     0.38032368\n",
      "2     1.2647535\n",
      "multiple 1.64507718\n"
     ]
    }
   ],
   "source": [
    "#simpson 3/8 multiple\n",
    "\n",
    "def trapm(h,n,f):\n",
    "    sum=f[0]\n",
    "    for i in range (1,n):\n",
    "        sum=sum+4*f[i]\n",
    "    sum=sum+f[n]\n",
    "    trapm=2*h*sum/(3*n)\n",
    "    return trapm\n",
    "\n",
    "def trapw(h,f,a):\n",
    "    trapw=3*h*(f[a-4]+3*(f[a-3]+f[a-2])+f[a-1])/8 \n",
    "    return trapw \n",
    "\n",
    "h=0.16\n",
    "n=2\n",
    "f=[0.2,1.296919,1.743393,3.186015,3.181929,0.232]\n",
    "a=len(f) \n",
    "\n",
    "print \"1    \",trapm(h,n,f)\n",
    "print \"2    \",trapw(h,f,a)\n",
    "print \"multiple\",trapm(h,n,f)+trapw(h,f,a)"
   ]
  },
  {
   "cell_type": "code",
   "execution_count": 16,
   "metadata": {
    "collapsed": false
   },
   "outputs": [
    {
     "name": "stdout",
     "output_type": "stream",
     "text": [
      "-0.8593752\n",
      "-0.878128\n",
      "-0.912501066667\n"
     ]
    }
   ],
   "source": [
    "#ejercicio 23.1\n",
    "a=0\n",
    "b=0.25\n",
    "h=b-a\n",
    "\n",
    "fx=0.925\n",
    "fx11=1.103516\n",
    "fx22=1.2\n",
    "fx1=0.6363281\n",
    "fx2=0.2\n",
    "\n",
    "\n",
    "print((-fx2+4*fx1-3*fx)/(2*h))\n",
    "print((fx22-4*fx11+3*fx)/(2*h))\n",
    "print((-fx2+8*fx1-8*fx11+fx22)/(12*h))\n"
   ]
  },
  {
   "cell_type": "code",
   "execution_count": null,
   "metadata": {
    "collapsed": true
   },
   "outputs": [],
   "source": []
  },
  {
   "cell_type": "code",
   "execution_count": null,
   "metadata": {
    "collapsed": true
   },
   "outputs": [],
   "source": []
  },
  {
   "cell_type": "code",
   "execution_count": null,
   "metadata": {
    "collapsed": true
   },
   "outputs": [],
   "source": []
  }
 ],
 "metadata": {
  "kernelspec": {
   "display_name": "Python 2",
   "language": "python",
   "name": "python2"
  },
  "language_info": {
   "codemirror_mode": {
    "name": "ipython",
    "version": 2
   },
   "file_extension": ".py",
   "mimetype": "text/x-python",
   "name": "python",
   "nbconvert_exporter": "python",
   "pygments_lexer": "ipython2",
   "version": "2.7.11"
  }
 },
 "nbformat": 4,
 "nbformat_minor": 0
}
