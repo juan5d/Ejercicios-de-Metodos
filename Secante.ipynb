{
 "cells": [
  {
   "cell_type": "code",
   "execution_count": 3,
   "metadata": {
    "collapsed": false
   },
   "outputs": [
    {
     "name": "stdout",
     "output_type": "stream",
     "text": [
      "i   | Xi              | Ea              | Et             \n",
      "  0 |        1.000000 |    0.000000e+00 |    0.000000e+00\n",
      "  1 |        0.612700 |    6.321206e+01 |    8.032634e+00\n",
      "  2 |        0.563838 |    8.665860e+00 |    5.827277e-01\n",
      "  3 |        0.567170 |    5.874724e-01 |    4.772766e-03\n",
      "  4 |        0.567143 |    4.769838e-03 |    2.927825e-06\n",
      "  5 |        0.567143 |    2.855585e-06 |    7.224005e-08\n",
      "\n",
      "Epsilon =  5e-05\n"
     ]
    }
   ],
   "source": [
    "import math\n",
    "\n",
    "\n",
    "def funcion(x):\n",
    "    return math.exp(-x) - x\n",
    "\n",
    "\n",
    "def derivada(x):\n",
    "    return -math.exp(-x) - 1\n",
    "\n",
    "\n",
    "ES = 0.5*10**(2-6) \n",
    "\n",
    "VVR = 0.56714329 \n",
    "\n",
    "i = 0   \n",
    "\n",
    "Ea = 0\n",
    "\n",
    "Et = 0\n",
    "\n",
    "x_ant = 0 \n",
    "\n",
    "xi = 1 \n",
    "\n",
    "x_sig = 0\n",
    "\n",
    "\n",
    "\n",
    "print \"{0:3s} | {1:15s} | {2:15s} | {3:15s}\".format(\"i\", \"Xi\", \"Ea\", \"Et\")\n",
    "\n",
    "while True:\n",
    "    x_sig = xi - ((funcion(xi) * (xi - x_ant)) / (funcion(xi) - funcion(x_ant))) \n",
    "    \n",
    "\n",
    "    if i != 0:\n",
    "        Ea = abs((xi - x_ant) / xi) * 100   \n",
    "        \n",
    "        Et = abs ((VVR - xi) / VVR ) * 100   \n",
    "        \n",
    "\n",
    "    print \"{0:3d} | {1:15f} | {2:15e} | {3:15e}\".format(i, xi, Ea, Et)\n",
    "\n",
    "    if abs(Ea) < ES and i != 0:\n",
    "        break\n",
    "\n",
    "    x_ant = xi\n",
    "    xi = x_sig\n",
    "    i += 1\n",
    "print \"\\n\",\"Epsilon = \", ES "
   ]
  },
  {
   "cell_type": "code",
   "execution_count": null,
   "metadata": {
    "collapsed": true
   },
   "outputs": [],
   "source": []
  }
 ],
 "metadata": {
  "kernelspec": {
   "display_name": "Python 2",
   "language": "python",
   "name": "python2"
  },
  "language_info": {
   "codemirror_mode": {
    "name": "ipython",
    "version": 2
   },
   "file_extension": ".py",
   "mimetype": "text/x-python",
   "name": "python",
   "nbconvert_exporter": "python",
   "pygments_lexer": "ipython2",
   "version": "2.7.11"
  }
 },
 "nbformat": 4,
 "nbformat_minor": 0
}
