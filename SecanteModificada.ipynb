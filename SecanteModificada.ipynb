{
 "cells": [
  {
   "cell_type": "code",
   "execution_count": 14,
   "metadata": {
    "collapsed": false
   },
   "outputs": [
    {
     "name": "stdout",
     "output_type": "stream",
     "text": [
      "I   |Xi         | Et        \n",
      "  0 |  1.000000 | 100.000000\n",
      "  1 |  0.537263 | -86.128697\n",
      "  2 |  0.567035 |   5.250526\n",
      "  3 |  0.567143 |   0.019130\n",
      "  4 |  0.567143 |  -0.000034\n",
      "  5 |  0.567143 |   0.000000\n",
      "  6 |  0.567143 |  -0.000000\n"
     ]
    }
   ],
   "source": [
    "import math\n",
    "\n",
    "print \"{0:3s} |{1:10s} | {2:10s}\".format(\"I\", \"Xi\",\"Et\")\n",
    "xf0=math.exp(-xi0)-xi0\n",
    "xfd=math.exp(-(xi0+d))-(xi0+d)\n",
    "xi0=1\n",
    "d=0.01\n",
    "for i in range(8):\n",
    "        if i==1:\n",
    "            \n",
    "            fx=xi0-(d*(xf0))/(xfd-xf0)\n",
    "            xi0=fx\n",
    "            xf0=math.exp(-xi0)-xi0\n",
    "            xfd=math.exp(-(xi0+d))-(xi0+d)\n",
    "            Er= ((fx - cont)/fx)*100\n",
    "            print \"{0:3d} |{1:10f} | {2:10f}\".format(i-1, fx,100)\n",
    "        \n",
    "            cont=fx\n",
    "        if i>1:\n",
    "            \n",
    "            fx=xi0-(d*(xf0))/(xfd-xf0)\n",
    "            xi0=fx\n",
    "            xf0=math.exp(-xi0)-xi0\n",
    "            xfd=math.exp(-(xi0+d))-(xi0+d)\n",
    "            Er= ((fx - cont)/fx)*100\n",
    "            print \"{0:3d} |{1:10f} | {2:10f}\".format(i-1, fx,Er)\n",
    "        \n",
    "            cont=fx\n",
    "        \n",
    "        "
   ]
  },
  {
   "cell_type": "code",
   "execution_count": null,
   "metadata": {
    "collapsed": true
   },
   "outputs": [],
   "source": []
  }
 ],
 "metadata": {
  "kernelspec": {
   "display_name": "Python 2",
   "language": "python",
   "name": "python2"
  },
  "language_info": {
   "codemirror_mode": {
    "name": "ipython",
    "version": 2
   },
   "file_extension": ".py",
   "mimetype": "text/x-python",
   "name": "python",
   "nbconvert_exporter": "python",
   "pygments_lexer": "ipython2",
   "version": "2.7.11"
  }
 },
 "nbformat": 4,
 "nbformat_minor": 0
}
