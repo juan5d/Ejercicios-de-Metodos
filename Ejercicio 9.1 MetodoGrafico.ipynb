{
 "cells": [
  {
   "cell_type": "code",
   "execution_count": 1,
   "metadata": {
    "collapsed": true
   },
   "outputs": [],
   "source": [
    "import math \n",
    "import numpy as np\n",
    "import pylab as pl\n",
    "from pylab import *\n",
    "\n",
    "class MyClass(object):\n",
    "    \n",
    "    def  funcion1(x):\n",
    "        Fx=((-3*x)/2) + 9\n",
    "        return Fx\n",
    "    funcion1 = staticmethod(funcion1)\n",
    "    \n",
    "    def  funcion2(x):\n",
    "        Fx=(x/2) + 1\n",
    "        return Fx\n",
    "    funcion2 = staticmethod(funcion2)\n",
    "\n",
    "    def graficar():\n",
    "        i=0\n",
    "        fx1=[]\n",
    "        fx2=[]\n",
    "        while i<=10 :\n",
    "            fx1.append(MyClass.funcion1(i))\n",
    "            fx2.append(MyClass.funcion2(i))\n",
    "            i=i+1 \n",
    "\n",
    "        plt.subplot(2,1,1)\n",
    "        plt.plot(fx1,label = \"Funcion1\")\n",
    "        plt.plot(fx2,label = \"funcion2\")\n",
    "        plt.grid(True)\n",
    "        plt.show()\n",
    "    graficar = staticmethod(graficar)\n",
    "    \n",
    "j=MyClass.graficar()"
   ]
  },
  {
   "cell_type": "code",
   "execution_count": null,
   "metadata": {
    "collapsed": true
   },
   "outputs": [],
   "source": []
  }
 ],
 "metadata": {
  "kernelspec": {
   "display_name": "Python 2",
   "language": "python",
   "name": "python2"
  },
  "language_info": {
   "codemirror_mode": {
    "name": "ipython",
    "version": 2
   },
   "file_extension": ".py",
   "mimetype": "text/x-python",
   "name": "python",
   "nbconvert_exporter": "python",
   "pygments_lexer": "ipython2",
   "version": "2.7.11"
  }
 },
 "nbformat": 4,
 "nbformat_minor": 0
}
