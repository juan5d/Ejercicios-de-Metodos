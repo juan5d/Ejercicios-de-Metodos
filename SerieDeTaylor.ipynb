{
 "cells": [
  {
   "cell_type": "code",
   "execution_count": 6,
   "metadata": {
    "collapsed": false
   },
   "outputs": [
    {
     "name": "stdout",
     "output_type": "stream",
     "text": [
      "Orden (n)--> 3\n",
      "Orden  |  f(xi+1)\n",
      "0      |  0.707106781\n",
      "1      |  0.521986659\n",
      "2      |  0.236761162\n",
      "3      |  0.081035043\n"
     ]
    }
   ],
   "source": [
    "from math import *\n",
    "\n",
    "\n",
    "def fxN(xi,xii,n):\n",
    "    h= xii-xi\n",
    "    valor= 0    \n",
    "    temp= 0   \n",
    "    negativo= False\n",
    "    signo=(1,-1,-1, 1)\n",
    "    cs= 0  \n",
    "\n",
    "    for j in range(n+1):\n",
    "        if i%2==0:\n",
    "            temp= (signo[cs]*cos(xi) * h**j)/factorial(i)\n",
    "        else:\n",
    "            temp= (signo[cs]*sin(xi) * h**j)/factorial(i)\n",
    "\n",
    "        cs+=1\n",
    "        if cs == 4:       \n",
    "            cs= 0\n",
    "\n",
    "        valor+= temp    \n",
    "\n",
    "    return valor\n",
    "\n",
    "n= input(\"Orden (n)--> \")\n",
    "\n",
    "print \"Orden  |  f(xi+1)\"\n",
    "\n",
    "for i in range(n+1):\n",
    "    print \"%d      |  %.9f\" % (i, fxN(pi/4,pi/3,i))\n",
    "\n"
   ]
  },
  {
   "cell_type": "code",
   "execution_count": null,
   "metadata": {
    "collapsed": true
   },
   "outputs": [],
   "source": []
  },
  {
   "cell_type": "code",
   "execution_count": null,
   "metadata": {
    "collapsed": true
   },
   "outputs": [],
   "source": []
  }
 ],
 "metadata": {
  "kernelspec": {
   "display_name": "Python 2",
   "language": "python",
   "name": "python2"
  },
  "language_info": {
   "codemirror_mode": {
    "name": "ipython",
    "version": 2
   },
   "file_extension": ".py",
   "mimetype": "text/x-python",
   "name": "python",
   "nbconvert_exporter": "python",
   "pygments_lexer": "ipython2",
   "version": "2.7.11"
  }
 },
 "nbformat": 4,
 "nbformat_minor": 0
}
