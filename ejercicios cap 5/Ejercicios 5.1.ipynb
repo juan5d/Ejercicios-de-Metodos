{
 "cells": [
  {
   "cell_type": "code",
   "execution_count": 7,
   "metadata": {
    "collapsed": false
   },
   "outputs": [
    {
     "name": "stdout",
     "output_type": "stream",
     "text": [
      "Primera Raiz:  -1.40512483795\n",
      "Segunda Raiz:  6.40512483795\n",
      "\n",
      "It  | Xl           | Xu           | Xr           | Et           | Ea          \n",
      "  1 |     5.000000 |    10.000000 |     7.500000 |     1.000000 |     1.094875\n",
      "  2 |     5.000000 |     7.500000 |     6.250000 |     0.200000 |     0.155125\n",
      "  3 |     6.250000 |     7.500000 |     6.875000 |     0.090909 |     0.469875\n"
     ]
    }
   ],
   "source": [
    "#solucion grafica\n",
    "\n",
    "from math import *\n",
    "import matplotlib\n",
    "matplotlib.use(\"Qt4Agg\")\n",
    "import numpy as np\n",
    "\n",
    "from matplotlib import pyplot as plt\n",
    "valoresy= []\n",
    "def funcion(x):\n",
    "    return (-0.5*(x**2))+(2.5*x)+4.5\n",
    "x=-2\n",
    "for i in range (10):\n",
    "    \n",
    "    x_1=funcion(x)\n",
    "    valoresy.append(x_1) \n",
    "    x=x+1\n",
    "    \n",
    "    \n",
    "#Formula cuadratica\n",
    "raiz1=((-2.5)+((2.5**2)+(4*(0.5)*4.5))**(0.5))/(2*(-0.5))\n",
    "raiz2=((-2.5)-((2.5**2)+(4*(0.5)*4.5))**(0.5))/(2*(-0.5))\n",
    "print \"Primera Raiz: \",raiz1\n",
    "print \"Segunda Raiz: \",raiz2\n",
    "\n",
    "def biseccion():\n",
    "    xi=5\n",
    "    xu=10\n",
    "    xr_ant=0\n",
    "    xr= (xi+xu)/2.0\n",
    "    print \"\\n{0:3s} | {1:12s} | {2:12s} | {3:12s} | {4:12s} | {5:12s}\".format(\"It\", \"Xl\", \"Xu\",\"Xr\",\"Et\",\"Ea\")\n",
    "    for i in range(1,4):\n",
    "    \n",
    "    \n",
    "        xr= (xi+xu)/2.0\n",
    "        Et = abs((xr - xr_ant) / xr)\n",
    "        Ea= abs(raiz2-xr)\n",
    "        fxi=funcion(xi)\n",
    "        fxu=funcion(xu)\n",
    "        fxr=funcion(xr)\n",
    "        print \"{0:3d} | {1:12f} | {2:12f} | {3:12f} | {4:12f} | {5:12f}\".format(i, xi, xu, xr, Et,Ea)\n",
    "        \n",
    "        x=round(fxi)\n",
    "        if(fxi*fxr<0):\n",
    "            xu=xr\n",
    "        if(fxi*fxr>0):\n",
    "            xi=xr\n",
    "        \n",
    "        xr_ant = xr\n",
    "biseccion()\n",
    "sol= plt.plot(valoresy,\"b-\", label=\"Solucion Grafica\")\n",
    "plt.xlabel(\"x\")\n",
    "indice = np.arange(10) \n",
    "plt.xticks(indice, (\"-2\", \"-1\", \"0\", \"1\", \"2\", \"3\", \"4\", \"5\", \"6\"))   \n",
    "plt.ylabel(\"y\")\n",
    "plt.grid(True)\n",
    "plt.show()\n"
   ]
  },
  {
   "cell_type": "code",
   "execution_count": null,
   "metadata": {
    "collapsed": true
   },
   "outputs": [],
   "source": []
  },
  {
   "cell_type": "code",
   "execution_count": null,
   "metadata": {
    "collapsed": true
   },
   "outputs": [],
   "source": []
  },
  {
   "cell_type": "code",
   "execution_count": null,
   "metadata": {
    "collapsed": true
   },
   "outputs": [],
   "source": []
  }
 ],
 "metadata": {
  "kernelspec": {
   "display_name": "Python 2",
   "language": "python",
   "name": "python2"
  },
  "language_info": {
   "codemirror_mode": {
    "name": "ipython",
    "version": 2
   },
   "file_extension": ".py",
   "mimetype": "text/x-python",
   "name": "python",
   "nbconvert_exporter": "python",
   "pygments_lexer": "ipython2",
   "version": "2.7.11"
  }
 },
 "nbformat": 4,
 "nbformat_minor": 0
}
