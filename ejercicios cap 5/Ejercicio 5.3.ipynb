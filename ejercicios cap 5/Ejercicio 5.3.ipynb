{
 "cells": [
  {
   "cell_type": "code",
   "execution_count": 1,
   "metadata": {
    "collapsed": false
   },
   "outputs": [
    {
     "name": "stdout",
     "output_type": "stream",
     "text": [
      "xi        |xu         | xr        \n",
      "0.500000 |  1.000000 |   0.000000\n",
      "\n",
      "It  | Xl           | Xu           | Xr           | Et          \n",
      "  1 |     0.500000 |     1.000000 |     0.750000 |   100.000000\n",
      "  2 |     0.750000 |     1.000000 |     0.875000 |    14.285714\n",
      "  3 |     0.875000 |     1.000000 |     0.937500 |     6.666667\n",
      "  4 |     0.937500 |     1.000000 |     0.968750 |     3.225806\n",
      "  5 |     0.968750 |     1.000000 |     0.984375 |     1.587302\n",
      "  6 |     0.984375 |     1.000000 |     0.992188 |     0.787402\n",
      "  7 |     0.992188 |     1.000000 |     0.996094 |     0.392157\n",
      "  8 |     0.996094 |     1.000000 |     0.998047 |     0.195695\n",
      "  9 |     0.998047 |     1.000000 |     0.999023 |     0.097752\n"
     ]
    }
   ],
   "source": [
    "from math import *\n",
    "import matplotlib\n",
    "matplotlib.use(\"Qt4Agg\")\n",
    "import numpy as np\n",
    "\n",
    "from matplotlib import pyplot as plt\n",
    "valoresy= []\n",
    "Es= 0.5*0.2\n",
    "xi=0.5\n",
    "xu=1.0\n",
    "xr=0.0\n",
    "def f(x):\n",
    "    return (-25182*x)-(90*(x**2))+(44*(x**3))-(8*(x**4))+(0.7*(x**5))\n",
    "x=-3\n",
    "for i in range (5):\n",
    "    \n",
    "    x_1=f(x)\n",
    "    valoresy.append(x_1) \n",
    "    x=x+1\n",
    "    \n",
    "\n",
    "def biseccion():\n",
    "    xi=0.5\n",
    "    xu=1.0\n",
    "    xr_ant=0\n",
    "    t=1\n",
    "    xr= (xi+xu)/2.0\n",
    "    print \"\\n{0:3s} | {1:12s} | {2:12s} | {3:12s} | {4:12s}\".format(\"It\", \"Xl\", \"Xu\",\"Xr\",\"Et\")\n",
    "    while True:\n",
    "    \n",
    "    \n",
    "        xr= (xi+xu)/2.0\n",
    "        Et = abs((xr - xr_ant) / xr)*100\n",
    "        fxi=f(xi)\n",
    "        fxu=f(xu)\n",
    "        fxr=f(xr)\n",
    "        print \"{0:3d} | {1:12f} | {2:12f} | {3:12f} | {4:12f}\".format(t, xi, xu, xr, Et)\n",
    "        \n",
    "        x=round(fxi)\n",
    "        if(fxi*fxr<0):\n",
    "            xu=xr\n",
    "        if(fxi*fxr>0):\n",
    "            xi=xr\n",
    "        if Et < Es and t != 0:  # Condición para terminar ciclo\n",
    "            break\n",
    "        t=t+1\n",
    "        xr_ant = xr\n",
    "#falsa posicion \n",
    "\n",
    "def fxr(xi,xu):\n",
    "    return xu-((f(xu)*(xi-xu))/(f(xi)-f(xu)))\n",
    "if((f(xi)*f(xu))<0):\n",
    "    xr=fxr(xi,xu)\n",
    "print \"{0:9s} |{1:10s} | {2:10s}\".format(\"xi\", \"xu\",\"xr\")\n",
    "print \"{0:3f} |{1:10f} | {2:10f}\".format(xi, xu, xr)\n",
    "aux=0\n",
    "while((f(xi)*f(xr))!=0):\n",
    "    if((f(xi)*f(xr))<0):\n",
    "        xu=xr\n",
    "        xr=fxr(xi,xu)\n",
    "        print \"{0:3f} |{1:10f} | {2:10f}\".format(xi, xu, xr)\n",
    "        \n",
    "    else:\n",
    "        if((f(xi)*f(xr))>0):\n",
    "            xi=xr\n",
    "            xr=fxr(xi,xu)\n",
    "            print \"{0:3f} |{1:10f} | {2:10f}\".format(xi, xu, xr)\n",
    "\n",
    "\n",
    "biseccion()\n",
    "sol= plt.plot(valoresy,\"b-\", label=\"Solucion Grafica\")\n",
    "plt.xlabel(\"x\") \n",
    "indice = np.arange(5) \n",
    "plt.xticks(indice, (\"-3\", \"-2\", \"-1\", \"0\", \"1\"))  \n",
    "plt.ylabel(\"y\")\n",
    "plt.grid(True)\n",
    "plt.show()"
   ]
  },
  {
   "cell_type": "code",
   "execution_count": null,
   "metadata": {
    "collapsed": true
   },
   "outputs": [],
   "source": []
  }
 ],
 "metadata": {
  "kernelspec": {
   "display_name": "Python 2",
   "language": "python",
   "name": "python2"
  },
  "language_info": {
   "codemirror_mode": {
    "name": "ipython",
    "version": 2
   },
   "file_extension": ".py",
   "mimetype": "text/x-python",
   "name": "python",
   "nbconvert_exporter": "python",
   "pygments_lexer": "ipython2",
   "version": "2.7.11"
  }
 },
 "nbformat": 4,
 "nbformat_minor": 0
}
