{
 "cells": [
  {
   "cell_type": "code",
   "execution_count": 2,
   "metadata": {
    "collapsed": false
   },
   "outputs": [
    {
     "name": "stdout",
     "output_type": "stream",
     "text": [
      "Analiticamente:  2.66666666667\n",
      "xi        |xu         | xr        \n",
      "2.000000 |  3.000000 |   2.750000\n",
      "2.000000 |  2.750000 |   2.687500\n",
      "2.000000 |  2.687500 |   2.671875\n",
      "2.000000 |  2.671875 |   2.667969\n",
      "2.000000 |  2.667969 |   2.666992\n",
      "2.000000 |  2.666992 |   2.666748\n",
      "2.000000 |  2.666748 |   2.666687\n",
      "2.000000 |  2.666687 |   2.666672\n",
      "2.000000 |  2.666672 |   2.666668\n",
      "2.000000 |  2.666668 |   2.666667\n",
      "2.000000 |  2.666667 |   2.666667\n",
      "2.000000 |  2.666667 |   2.666667\n",
      "2.000000 |  2.666667 |   2.666667\n",
      "2.000000 |  2.666667 |   2.666667\n",
      "2.000000 |  2.666667 |   2.666667\n",
      "2.000000 |  2.666667 |   2.666667\n",
      "2.000000 |  2.666667 |   2.666667\n",
      "2.000000 |  2.666667 |   2.666667\n",
      "2.000000 |  2.666667 |   2.666667\n",
      "2.000000 |  2.666667 |   2.666667\n",
      "2.000000 |  2.666667 |   2.666667\n",
      "2.000000 |  2.666667 |   2.666667\n",
      "2.000000 |  2.666667 |   2.666667\n",
      "2.000000 |  2.666667 |   2.666667\n",
      "2.000000 |  2.666667 |   2.666667\n"
     ]
    }
   ],
   "source": [
    "from math import *\n",
    "import matplotlib\n",
    "matplotlib.use(\"Qt4Agg\")\n",
    "import numpy as np\n",
    "\n",
    "from matplotlib import pyplot as plt\n",
    "valoresy= []\n",
    "Es= 0.5*0.2\n",
    "xi=2\n",
    "xu=3\n",
    "xr=0\n",
    "def f(x):\n",
    "    return (0.8-0.3*x)/x\n",
    "x=1\n",
    "for i in range (5):\n",
    "    \n",
    "    x_1=f(x)\n",
    "    valoresy.append(x_1) \n",
    "    x=x+1\n",
    "    \n",
    "#Analitica\n",
    "print \"Analiticamente: \",0.8/0.3\n",
    "\n",
    "\n",
    "#falsa posicion \n",
    "\n",
    "def fxr(xi,xu):\n",
    "    return xu-((f(xu)*(xi-xu))/(f(xi)-f(xu)))\n",
    "if((f(xi)*f(xu))<0):\n",
    "    xr=fxr(xi,xu)\n",
    "print \"{0:9s} |{1:10s} | {2:10s}\".format(\"xi\", \"xu\",\"xr\")\n",
    "print \"{0:3f} |{1:10f} | {2:10f}\".format(xi, xu, xr)\n",
    "aux=0\n",
    "while((f(xi)*f(xr))!=0):\n",
    "    if((f(xi)*f(xr))<0):\n",
    "        xu=xr\n",
    "        xr=fxr(xi,xu)\n",
    "        print \"{0:3f} |{1:10f} | {2:10f}\".format(xi, xu, xr)\n",
    "        \n",
    "    else:\n",
    "        if((f(xi)*f(xr))>0):\n",
    "            xi=xr\n",
    "            xr=fxr(xi,xu)\n",
    "            print \"{0:3f} |{1:10f} | {2:10f}\".format(xi, xu, xr)\n",
    "\n",
    "\n",
    "sol= plt.plot(valoresy,\"b-\", label=\"Solucion Grafica\")\n",
    "plt.xlabel(\"x\") \n",
    "indice = np.arange(5) \n",
    "plt.xticks(indice, (\"1\", \"2\", \"3\", \"4\", \"5\"))  \n",
    "plt.ylabel(\"y\")\n",
    "plt.grid(True)\n",
    "plt.show()"
   ]
  },
  {
   "cell_type": "code",
   "execution_count": null,
   "metadata": {
    "collapsed": true
   },
   "outputs": [],
   "source": []
  },
  {
   "cell_type": "code",
   "execution_count": null,
   "metadata": {
    "collapsed": true
   },
   "outputs": [],
   "source": []
  }
 ],
 "metadata": {
  "kernelspec": {
   "display_name": "Python 2",
   "language": "python",
   "name": "python2"
  },
  "language_info": {
   "codemirror_mode": {
    "name": "ipython",
    "version": 2
   },
   "file_extension": ".py",
   "mimetype": "text/x-python",
   "name": "python",
   "nbconvert_exporter": "python",
   "pygments_lexer": "ipython2",
   "version": "2.7.11"
  }
 },
 "nbformat": 4,
 "nbformat_minor": 0
}
