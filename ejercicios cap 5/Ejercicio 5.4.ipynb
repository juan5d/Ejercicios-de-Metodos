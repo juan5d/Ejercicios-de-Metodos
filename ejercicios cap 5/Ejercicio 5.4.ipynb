{
 "cells": [
  {
   "cell_type": "code",
   "execution_count": 12,
   "metadata": {
    "collapsed": false
   },
   "outputs": [
    {
     "name": "stdout",
     "output_type": "stream",
     "text": [
      "xi        |xu         | xr        \n",
      "-3.000000 |  1.000000 |   0.767213\n",
      "-3.000000 |  0.767213 |   0.536283\n",
      "-3.000000 |  0.536283 |   0.322213\n",
      "-3.000000 |  0.322213 |   0.136690\n",
      "-3.000000 |  0.136690 |  -0.014445\n",
      "-3.000000 | -0.014445 |  -0.131222\n",
      "-3.000000 | -0.131222 |  -0.217701\n",
      "-3.000000 | -0.217701 |  -0.279700\n",
      "-3.000000 | -0.279700 |  -0.323108\n",
      "-3.000000 | -0.323108 |  -0.352990\n",
      "-3.000000 | -0.352990 |  -0.373321\n",
      "-3.000000 | -0.373321 |  -0.387044\n",
      "-3.000000 | -0.387044 |  -0.396255\n",
      "-3.000000 | -0.396255 |  -0.402415\n",
      "-3.000000 | -0.402415 |  -0.406525\n",
      "-3.000000 | -0.406525 |  -0.409262\n"
     ]
    }
   ],
   "source": [
    "import math\n",
    "import numpy as np\n",
    "import pylab as pl\n",
    "\n",
    "valx = []\n",
    "valy = []\n",
    "valejex=[]\n",
    "valejey=[]\n",
    "o=[]\n",
    "ok=[]\n",
    "xr_ant=0\n",
    "g=9.8\n",
    "m=68.1\n",
    "t=10\n",
    "v=40\n",
    "xi=-3\n",
    "xu=1\n",
    "print \"{0:9s} |{1:10s} | {2:10s}\".format(\"xi\", \"xu\",\"xr\")\n",
    "def f(c):\n",
    "    return (-21*c)+(18*(c**2))-(2.75*(c**3))-12\n",
    "def fxr(xi,xu):\n",
    "    return xu-((f(xu)*(xi-xu))/(f(xi)-f(xu)))\n",
    "if((f(xi)*f(xu))<0):\n",
    "    xr=fxr(xi,xu)\n",
    "print \"{0:3f} |{1:10f} | {2:10f}\".format(xi, xu, xr)\n",
    "aux=0\n",
    "\n",
    "while True:\n",
    "    if((f(xi)*f(xr))<0):\n",
    "        xu=xr\n",
    "        xr=fxr(xi,xu)\n",
    "        print \"{0:3f} |{1:10f} | {2:10f}\".format(xi, xu, xr)\n",
    "        Et = abs((xr - xr_ant) / xr)*100\n",
    "        \n",
    "    else:\n",
    "        if((f(xi)*f(xr))>0):\n",
    "            xi=xr\n",
    "            xr=fxr(xi,xu)\n",
    "            print \"{0:3f} |{1:10f} | {2:10f}\".format(xi, xu, xr)\n",
    "            Et = abs((xr - xr_ant) / xr)*100\n",
    "\n",
    "    if Et<1:  # Condición para terminar ciclo\n",
    "        break\n",
    "    xr_ant = xr"
   ]
  },
  {
   "cell_type": "code",
   "execution_count": null,
   "metadata": {
    "collapsed": true
   },
   "outputs": [],
   "source": []
  },
  {
   "cell_type": "code",
   "execution_count": null,
   "metadata": {
    "collapsed": true
   },
   "outputs": [],
   "source": []
  }
 ],
 "metadata": {
  "kernelspec": {
   "display_name": "Python 2",
   "language": "python",
   "name": "python2"
  },
  "language_info": {
   "codemirror_mode": {
    "name": "ipython",
    "version": 2
   },
   "file_extension": ".py",
   "mimetype": "text/x-python",
   "name": "python",
   "nbconvert_exporter": "python",
   "pygments_lexer": "ipython2",
   "version": "2.7.11"
  }
 },
 "nbformat": 4,
 "nbformat_minor": 0
}
