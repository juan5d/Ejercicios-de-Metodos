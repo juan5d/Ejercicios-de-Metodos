{
 "cells": [
  {
   "cell_type": "code",
   "execution_count": 6,
   "metadata": {
    "collapsed": false
   },
   "outputs": [
    {
     "name": "stdout",
     "output_type": "stream",
     "text": [
      "\n",
      "It  | Xl           | Xu           | Xr           | Et          \n",
      "  1 |     0.000000 |     1.000000 |     0.500000 |   100.000000\n",
      "  2 |     0.000000 |     0.500000 |     0.250000 |   100.000000\n",
      "  3 |     0.250000 |     0.500000 |     0.375000 |    33.333333\n",
      "  4 |     0.375000 |     0.500000 |     0.437500 |    14.285714\n",
      "  5 |     0.375000 |     0.437500 |     0.406250 |     7.692308\n",
      "  6 |     0.406250 |     0.437500 |     0.421875 |     3.703704\n",
      "  7 |     0.406250 |     0.421875 |     0.414062 |     1.886792\n",
      "  8 |     0.414062 |     0.421875 |     0.417969 |     0.934579\n",
      "  9 |     0.417969 |     0.421875 |     0.419922 |     0.465116\n",
      " 10 |     0.417969 |     0.419922 |     0.418945 |     0.233100\n",
      " 11 |     0.417969 |     0.418945 |     0.418457 |     0.116686\n",
      " 12 |     0.417969 |     0.418457 |     0.418213 |     0.058377\n"
     ]
    }
   ],
   "source": [
    "from math import *\n",
    "import matplotlib\n",
    "matplotlib.use(\"Qt4Agg\")\n",
    "import numpy as np\n",
    "\n",
    "from matplotlib import pyplot as plt\n",
    "valoresy= []\n",
    "Es= 0.5*0.2\n",
    "\n",
    "def funcion(x):\n",
    "    return (5*(x**3))-(5*(x**2))+(6*x)-2\n",
    "x=-2\n",
    "for i in range (5):\n",
    "    \n",
    "    x_1=funcion(x)\n",
    "    valoresy.append(x_1) \n",
    "    x=x+1\n",
    "\n",
    "    \n",
    "\n",
    "def biseccion():\n",
    "    xi=0\n",
    "    xu=1\n",
    "    xr_ant=0\n",
    "    t=1\n",
    "    xr= (xi+xu)/2.0\n",
    "    print \"\\n{0:3s} | {1:12s} | {2:12s} | {3:12s} | {4:12s}\".format(\"It\", \"Xl\", \"Xu\",\"Xr\",\"Et\")\n",
    "    while True:\n",
    "    \n",
    "    \n",
    "        xr= (xi+xu)/2.0\n",
    "        Et = abs((xr - xr_ant) / xr)*100\n",
    "        fxi=funcion(xi)\n",
    "        fxu=funcion(xu)\n",
    "        fxr=funcion(xr)\n",
    "        print \"{0:3d} | {1:12f} | {2:12f} | {3:12f} | {4:12f}\".format(t, xi, xu, xr, Et)\n",
    "        \n",
    "        x=round(fxi)\n",
    "        if(fxi*fxr<0):\n",
    "            xu=xr\n",
    "        if(fxi*fxr>0):\n",
    "            xi=xr\n",
    "        if Et < Es and t != 0:  # Condición para terminar ciclo\n",
    "            break\n",
    "        t=t+1\n",
    "        xr_ant = xr\n",
    "biseccion()\n",
    "sol= plt.plot(valoresy,\"b-\", label=\"Solucion Grafica\")\n",
    "plt.xlabel(\"x\")\n",
    "indice = np.arange(5) \n",
    "plt.xticks(indice, (\"0\", \"2\", \"4\", \"5\", \"6\"))  \n",
    "plt.ylabel(\"y\")\n",
    "plt.grid(True)\n",
    "plt.show()"
   ]
  },
  {
   "cell_type": "code",
   "execution_count": null,
   "metadata": {
    "collapsed": true
   },
   "outputs": [],
   "source": []
  }
 ],
 "metadata": {
  "kernelspec": {
   "display_name": "Python 2",
   "language": "python",
   "name": "python2"
  },
  "language_info": {
   "codemirror_mode": {
    "name": "ipython",
    "version": 2
   },
   "file_extension": ".py",
   "mimetype": "text/x-python",
   "name": "python",
   "nbconvert_exporter": "python",
   "pygments_lexer": "ipython2",
   "version": "2.7.11"
  }
 },
 "nbformat": 4,
 "nbformat_minor": 0
}
