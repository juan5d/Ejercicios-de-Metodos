{
 "cells": [
  {
   "cell_type": "code",
   "execution_count": 30,
   "metadata": {
    "collapsed": false
   },
   "outputs": [
    {
     "name": "stdout",
     "output_type": "stream",
     "text": [
      "Biseccion\n",
      "It  | Xl           | Xu           | Xr           | Et          \n",
      "  1 |     0.500000 |     2.000000 |     1.250000 |   100.000000\n",
      "  2 |     1.250000 |     2.000000 |     1.625000 |    23.076923\n",
      "  3 |     1.250000 |     1.625000 |     1.437500 |    13.043478\n",
      "\n",
      "Falsa Posicion\n",
      "xi        |xu         | xr        \n",
      "0.500000 |  2.000000 |   1.419068\n",
      "1.419068 |  2.000000 |   1.419068\n",
      "1.419068 |  2.000000 |   1.419068\n"
     ]
    }
   ],
   "source": [
    "from math import *\n",
    "import matplotlib\n",
    "matplotlib.use(\"Qt4Agg\")\n",
    "import numpy as np\n",
    "\n",
    "from matplotlib import pyplot as plt\n",
    "valoresy= []\n",
    "Es= 0.5*0.2\n",
    "\n",
    "def f(x):\n",
    "    return (exp(0.7/2))-x\n",
    "x=-3\n",
    "for i in range (7):\n",
    "    \n",
    "    x_1=f(x)\n",
    "    valoresy.append(x_1) \n",
    "    x=x+1\n",
    "    \n",
    "\n",
    "def biseccion():\n",
    "    xi=0.5\n",
    "    xu=2\n",
    "    xr_ant=0\n",
    "    t=1\n",
    "    xr= (xi+xu)/2.0\n",
    "    print \"Biseccion\"\n",
    "    print \"{0:3s} | {1:12s} | {2:12s} | {3:12s} | {4:12s}\".format(\"It\", \"Xl\", \"Xu\",\"Xr\",\"Et\")\n",
    "    for i in range (3):\n",
    "    \n",
    "    \n",
    "        xr= (xi+xu)/2.0\n",
    "        Et = abs((xr - xr_ant) / xr)*100\n",
    "        fxi=f(xi)\n",
    "        fxu=f(xu)\n",
    "        fxr=f(xr)\n",
    "        print \"{0:3d} | {1:12f} | {2:12f} | {3:12f} | {4:12f}\".format(t, xi, xu, xr, Et)\n",
    "        \n",
    "        x=round(fxi)\n",
    "        if(fxi*fxr<0):\n",
    "            xu=xr\n",
    "        if(fxi*fxr>0):\n",
    "            xi=xr\n",
    "        t=t+1\n",
    "        xr_ant = xr\n",
    "#falsa posicion \n",
    "def falsa():\n",
    "    xi=0.5\n",
    "    xu=2\n",
    "    xr=0.0\n",
    "    print \"\\nFalsa Posicion\"\n",
    "    def fxr(xi,xu):\n",
    "        return xu-((f(xu)*(xi-xu))/(f(xi)-f(xu)))\n",
    "    if((f(xi)*f(xu))<0):\n",
    "        xr=fxr(xi,xu)\n",
    "    print \"{0:9s} |{1:10s} | {2:10s}\".format(\"xi\", \"xu\",\"xr\")\n",
    "    print \"{0:4f} |{1:10f} | {2:10f}\".format(xi, xu, xr)\n",
    "    aux=0\n",
    "    for i in range (2):\n",
    "        if(round(f(xi)*f(xr))<0):\n",
    "            xu=xr\n",
    "            xr=fxr(xi,xu)\n",
    "            print \"{0:4f} |{1:10f} | {2:10f}\".format(xi, xu, xr)\n",
    "        \n",
    "        if((f(xi)*f(xr))>=0):\n",
    "            xi=xr\n",
    "            xr=fxr(xi,xu)\n",
    "            print \"{0:4f} |{1:10f} | {2:10f}\".format(xi, xu, xr)\n",
    "\n",
    "\n",
    "biseccion()\n",
    "falsa()\n",
    "sol= plt.plot(valoresy,\"b-\", label=\"Solucion Grafica\")\n",
    "plt.xlabel(\"x\") \n",
    "indice = np.arange(7) \n",
    "plt.xticks(indice, (\"-3\", \"-2\", \"-1\", \"0\", \"1\", \"2\", \"3\"))  \n",
    "plt.ylabel(\"y\")\n",
    "plt.grid(True)\n",
    "plt.show()"
   ]
  },
  {
   "cell_type": "code",
   "execution_count": null,
   "metadata": {
    "collapsed": true
   },
   "outputs": [],
   "source": []
  },
  {
   "cell_type": "code",
   "execution_count": null,
   "metadata": {
    "collapsed": true
   },
   "outputs": [],
   "source": []
  }
 ],
 "metadata": {
  "kernelspec": {
   "display_name": "Python 2",
   "language": "python",
   "name": "python2"
  },
  "language_info": {
   "codemirror_mode": {
    "name": "ipython",
    "version": 2
   },
   "file_extension": ".py",
   "mimetype": "text/x-python",
   "name": "python",
   "nbconvert_exporter": "python",
   "pygments_lexer": "ipython2",
   "version": "2.7.11"
  }
 },
 "nbformat": 4,
 "nbformat_minor": 0
}
