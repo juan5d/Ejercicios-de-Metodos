{
 "cells": [
  {
   "cell_type": "code",
   "execution_count": 1,
   "metadata": {
    "collapsed": false
   },
   "outputs": [
    {
     "name": "stdout",
     "output_type": "stream",
     "text": [
      "xi        |xu         | xr         | Et        \n",
      "40.000000 | 80.000000 |  62.491583 | 100.000000\n",
      "40.000000 | 62.491583 |  60.175113 |   3.849548\n",
      "40.000000 | 60.175113 |  59.882849 |   0.488060\n",
      "40.000000 | 59.882849 |  59.846271 |   0.061119\n",
      "40.000000 | 59.846271 |  59.841698 |   0.007642\n"
     ]
    }
   ],
   "source": [
    "import math\n",
    "import numpy as np\n",
    "import pylab as pl\n",
    "\n",
    "valx = []\n",
    "valy = []\n",
    "valejex=[]\n",
    "valejey=[]\n",
    "o=[]\n",
    "ok=[]\n",
    "xr_ant = 0\n",
    "g=9.8\n",
    "c=15\n",
    "t=9\n",
    "v=35\n",
    "xi=40.0\n",
    "xu=80.0\n",
    "print \"{0:9s} |{1:10s} | {2:10s} | {3:10s}\".format(\"xi\", \"xu\",\"xr\",\"Et\")\n",
    "def f(m):\n",
    "    return ((g*m/c)*(1-math.exp(-(c/m)*t)))-v\n",
    "def fxr(xi,xu):\n",
    "    return xu-((f(xu)*(xi-xu))/(f(xi)-f(xu)))\n",
    "if((f(xi)*f(xu))<0):\n",
    "    xr=fxr(xi,xu)\n",
    "    Et = abs((xr - xr_ant) / xr) * 100 \n",
    "    xr_ant = xr\n",
    "print \"{0:3f} |{1:10f} | {2:10f} | {3:10f}\".format(xi, xu, xr,Et)\n",
    "aux=0\n",
    "for i in range (4):\n",
    "    \n",
    "    if((f(xi)*f(xr))<0):\n",
    "        xu=xr\n",
    "        xr=fxr(xi,xu)\n",
    "        Et = abs((xr - xr_ant) / xr) * 100 \n",
    "        print \"{0:3f} |{1:10f} | {2:10f} | {3:10f}\".format(xi, xu, xr,Et)\n",
    "        xr_ant = xr\n",
    "        \n",
    "    else:\n",
    "        if((f(xi)*f(xr))>0):\n",
    "            xi=xr\n",
    "            xr=fxr(xi,xu)\n",
    "            Et = abs((xr - xr_ant) / xr) * 100 \n",
    "            print \"{0:3f} |{1:10f} | {2:10f} | {3:10f}\".format(xi, xu, xr,Et)\n",
    "            xr_ant = xr\n",
    "    \n",
    "\n",
    "x=12        \n",
    "i=0\n",
    "while(i<=100):\n",
    "    valejex.append(i)\n",
    "    valejey.append(0)\n",
    "    i+=1\n",
    "while(x<=100):\n",
    "    valx.append(x)\n",
    "    valy.append(f(x))\n",
    "    x=x+0.01\n",
    "    \n",
    "o.append(0)   \n",
    "ok.append(xr )   \n",
    "            \n",
    "f1=  pl.plot(valx,valy,\"y\")\n",
    "f2=  pl.plot(valejex,valejey,\"b\")\n",
    "f3=  pl.plot(ok,o,\".\")\n",
    "\n",
    "\n",
    "pl.title(\"Paracaidista Falsa Posicion\")\n",
    "pl.xlabel(\"c\")\n",
    "pl.ylabel(\"f(c)\")\n",
    "f=[\"F(x)\"]\n",
    "pl.legend(f,loc=4)\n",
    "pl.xlim(20,80)\n",
    "pl.ylim(-4, 7)\n",
    "pl.grid(True)\n",
    "\n",
    "pl.show()"
   ]
  },
  {
   "cell_type": "code",
   "execution_count": null,
   "metadata": {
    "collapsed": true
   },
   "outputs": [],
   "source": []
  },
  {
   "cell_type": "code",
   "execution_count": null,
   "metadata": {
    "collapsed": true
   },
   "outputs": [],
   "source": []
  }
 ],
 "metadata": {
  "kernelspec": {
   "display_name": "Python 2",
   "language": "python",
   "name": "python2"
  },
  "language_info": {
   "codemirror_mode": {
    "name": "ipython",
    "version": 2
   },
   "file_extension": ".py",
   "mimetype": "text/x-python",
   "name": "python",
   "nbconvert_exporter": "python",
   "pygments_lexer": "ipython2",
   "version": "2.7.11"
  }
 },
 "nbformat": 4,
 "nbformat_minor": 0
}
