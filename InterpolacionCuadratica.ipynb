{
 "cells": [
  {
   "cell_type": "code",
   "execution_count": 1,
   "metadata": {
    "collapsed": true
   },
   "outputs": [],
   "source": [
    "import math\n",
    "import matplotlib.pyplot as pl\n",
    "import numpy as npy\n",
    "\n",
    "f = lambda x: math.log(x)\n",
    "\n",
    "def m(x0, x1):\n",
    "    fx0 = f(x0)\n",
    "    fx1 = f(x1)\n",
    "\n",
    "    return (fx1 - fx0) / (x1 - x0)\n",
    "\n",
    "def interpolacion_cua(x0, x1, x2, x):\n",
    "    fx0 = f(x0)\n",
    "    fx1 = f(x1)\n",
    "    fx2 = f(x2)\n",
    "\n",
    "    b0 = f(x0)\n",
    "    b1 = m(x0,x1)\n",
    "\n",
    "    b2 = (m(x1,x2) - m(x0,x1)) / (x2 - x0)\n",
    "\n",
    "    return b0 + b1 * (x - x0) + b2 * (x - x0) * (x - x1)\n",
    "\n",
    "x = range(1,7)        \n",
    "fx = []\n",
    "v_inter_cua = []\n",
    "v_ep = npy.arange(1,6,0.1)    \n",
    "fep = []    \n",
    "\n",
    "for xi in x:\n",
    "    fx.append(f(xi))\n",
    "    v_inter_cua.append(interpolacion_cua(xi, xi+1, xi+2, xi))\n",
    "\n",
    "for i in v_ep:\n",
    "    fep.append(f(i))\n",
    "\n",
    "pl.figure(u\"Gráfica\")\n",
    "pl.title(u\"Interpolación Cuadrática Ln x\", fontweight=\"bold\")\n",
    "pl.plot(x,fx, \"*\", label= \"Ln(x) Discreto\")        \n",
    "pl.plot(x,v_inter_cua, label=u\"Interp Cuadrática\", lw=1.5)          \n",
    "pl.plot(v_ep,fep, label=u\"Ln(x) Original\", lw=1.5)\n",
    "pl.legend(loc=4)\n",
    "pl.margins(y=.1, x=.1)\n",
    "pl.grid(True)\n",
    "pl.show()"
   ]
  },
  {
   "cell_type": "code",
   "execution_count": null,
   "metadata": {
    "collapsed": true
   },
   "outputs": [],
   "source": []
  }
 ],
 "metadata": {
  "kernelspec": {
   "display_name": "Python 2",
   "language": "python",
   "name": "python2"
  },
  "language_info": {
   "codemirror_mode": {
    "name": "ipython",
    "version": 2
   },
   "file_extension": ".py",
   "mimetype": "text/x-python",
   "name": "python",
   "nbconvert_exporter": "python",
   "pygments_lexer": "ipython2",
   "version": "2.7.11"
  }
 },
 "nbformat": 4,
 "nbformat_minor": 0
}
